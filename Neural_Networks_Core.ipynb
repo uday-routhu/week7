{
  "nbformat": 4,
  "nbformat_minor": 0,
  "metadata": {
    "colab": {
      "provenance": [],
      "authorship_tag": "ABX9TyPa8vAixwB6XVSl9nXulM7t",
      "include_colab_link": true
    },
    "kernelspec": {
      "name": "python3",
      "display_name": "Python 3"
    },
    "language_info": {
      "name": "python"
    }
  },
  "cells": [
    {
      "cell_type": "markdown",
      "metadata": {
        "id": "view-in-github",
        "colab_type": "text"
      },
      "source": [
        "<a href=\"https://colab.research.google.com/github/uday-routhu/week7/blob/master/Neural_Networks_Core.ipynb\" target=\"_parent\"><img src=\"https://colab.research.google.com/assets/colab-badge.svg\" alt=\"Open In Colab\"/></a>"
      ]
    },
    {
      "cell_type": "markdown",
      "source": [
        "## Neural Networks (Core)"
      ],
      "metadata": {
        "id": "yqSDZ_v65EGp"
      }
    },
    {
      "cell_type": "markdown",
      "source": [
        "- author: Udayakumar Routhu"
      ],
      "metadata": {
        "id": "rzvOYVT_5JmQ"
      }
    },
    {
      "cell_type": "markdown",
      "source": [
        "Required Task:\n",
        "1. Be sure to perform a train test split on the train.csv so you can evaluate your models.\n",
        "2. Create and evaluate 3 iterations of a deep learning model to predict housing prices using the techniques you have learned to optimize your model's performance.\n",
        "3. Be sure to include some form of regularization with at least one model.\n",
        "Select your best model!"
      ],
      "metadata": {
        "id": "aMjKSE735NzD"
      }
    },
    {
      "cell_type": "markdown",
      "source": [
        "1. What am I predicting?\n",
        "   - Natural Language Processing with Disaster Tweets\n",
        "Predict which Tweets are about real disasters and which ones are not\n",
        "  - predicting whether a given tweet is about a real disaster or not. If so, predict a 1. If not, predict a 0."
      ],
      "metadata": {
        "id": "DwmnTtfc6ia0"
      }
    },
    {
      "cell_type": "markdown",
      "source": [
        "### Source of data\n",
        "  The data can be downloaded from [this link](https://www.kaggle.com/competitions/nlp-getting-started/data)"
      ],
      "metadata": {
        "id": "a0bokvMI7uhp"
      }
    },
    {
      "cell_type": "markdown",
      "source": [
        "### Import Libraries"
      ],
      "metadata": {
        "id": "ZWiqy6aT5Yjz"
      }
    },
    {
      "cell_type": "code",
      "source": [
        "# imports\n",
        "import pandas as pd\n",
        "from sklearn.preprocessing import StandardScaler, OneHotEncoder\n",
        "from sklearn.pipeline import make_pipeline\n",
        "from sklearn.compose import make_column_selector, ColumnTransformer\n",
        "from sklearn.model_selection import train_test_split\n",
        "from sklearn.metrics import classification_report, confusion_matrix\n",
        "from tensorflow import keras\n",
        "from keras.layers import Dense\n",
        "import matplotlib.pyplot as plt\n",
        "import seaborn as sns\n",
        "from sklearn.impute import SimpleImputer\n",
        "\n",
        "\n",
        "# Set global scikit-learn configuration\n",
        "from sklearn import set_config\n",
        "# Display estimators as a diagram\n",
        "set_config(display='diagram') # 'text' or 'diagram'}"
      ],
      "metadata": {
        "id": "ZBqHtTu_5TdX"
      },
      "execution_count": 1,
      "outputs": []
    },
    {
      "cell_type": "code",
      "source": [
        "def plot_history(history, figsize=(6,12), marker='o'):\n",
        "\n",
        "    # Get list of metrics from history\n",
        "    metrics = [c for c in history.history if not c.startswith('val_')]\n",
        "\n",
        "    ## Separate row for each metric\n",
        "    fig, axes = plt.subplots(nrows=len(metrics),figsize=figsize)\n",
        "\n",
        "    # For each metric\n",
        "    for i, metric_name in enumerate(metrics):\n",
        "\n",
        "        # Get the axis for the current metric\n",
        "        ax = axes[i]\n",
        "\n",
        "        # Get metric from history.history\n",
        "        metric_values = history.history[metric_name]\n",
        "        # Get epochs from history\n",
        "        epochs = history.epoch\n",
        "\n",
        "        # Plot the training metric\n",
        "        ax.plot(epochs, metric_values, label=metric_name, marker=marker)\n",
        "\n",
        "        ## Check if val_{metric} exists. if so, plot:\n",
        "        val_metric_name = f\"val_{metric_name}\"\n",
        "        if val_metric_name in history.history:\n",
        "            # Get validation values and plot\n",
        "            metric_values = history.history[val_metric_name]\n",
        "            ax.plot(epochs,metric_values,label=val_metric_name, marker=marker)\n",
        "\n",
        "        # Final subplot adjustments\n",
        "        ax.legend()\n",
        "        ax.set_title(metric_name)\n",
        "    fig.tight_layout()\n",
        "\n",
        "    return fig, axes"
      ],
      "metadata": {
        "id": "J3gCHg3eQoyi"
      },
      "execution_count": 2,
      "outputs": []
    },
    {
      "cell_type": "code",
      "source": [
        "# Mount google drive\n",
        "from google.colab import drive\n",
        "drive.mount('/content/drive')"
      ],
      "metadata": {
        "colab": {
          "base_uri": "https://localhost:8080/"
        },
        "id": "GYy0ka-_5hMf",
        "outputId": "7a89b3ec-a663-46d3-d80d-ae52c3c5d37e"
      },
      "execution_count": 3,
      "outputs": [
        {
          "output_type": "stream",
          "name": "stdout",
          "text": [
            "Mounted at /content/drive\n"
          ]
        }
      ]
    },
    {
      "cell_type": "code",
      "source": [
        "# Load in the dataset from url\n",
        "fpath = \"/content/drive/MyDrive/CodingDojo/03-AdvancedML/Week11/Data/train.csv\"\n",
        "df = pd.read_csv(fpath, index_col=0)\n",
        "df.head()"
      ],
      "metadata": {
        "colab": {
          "base_uri": "https://localhost:8080/",
          "height": 237
        },
        "id": "Ky2-k4Gs52ev",
        "outputId": "24c90a22-c905-45c9-812a-01e013401fac"
      },
      "execution_count": 4,
      "outputs": [
        {
          "output_type": "execute_result",
          "data": {
            "text/plain": [
              "   keyword location                                               text  target\n",
              "id                                                                            \n",
              "1      NaN      NaN  Our Deeds are the Reason of this #earthquake M...       1\n",
              "4      NaN      NaN             Forest fire near La Ronge Sask. Canada       1\n",
              "5      NaN      NaN  All residents asked to 'shelter in place' are ...       1\n",
              "6      NaN      NaN  13,000 people receive #wildfires evacuation or...       1\n",
              "7      NaN      NaN  Just got sent this photo from Ruby #Alaska as ...       1"
            ],
            "text/html": [
              "\n",
              "  <div id=\"df-916a5be0-8dfc-4fe3-83b2-a7c45bb826e1\" class=\"colab-df-container\">\n",
              "    <div>\n",
              "<style scoped>\n",
              "    .dataframe tbody tr th:only-of-type {\n",
              "        vertical-align: middle;\n",
              "    }\n",
              "\n",
              "    .dataframe tbody tr th {\n",
              "        vertical-align: top;\n",
              "    }\n",
              "\n",
              "    .dataframe thead th {\n",
              "        text-align: right;\n",
              "    }\n",
              "</style>\n",
              "<table border=\"1\" class=\"dataframe\">\n",
              "  <thead>\n",
              "    <tr style=\"text-align: right;\">\n",
              "      <th></th>\n",
              "      <th>keyword</th>\n",
              "      <th>location</th>\n",
              "      <th>text</th>\n",
              "      <th>target</th>\n",
              "    </tr>\n",
              "    <tr>\n",
              "      <th>id</th>\n",
              "      <th></th>\n",
              "      <th></th>\n",
              "      <th></th>\n",
              "      <th></th>\n",
              "    </tr>\n",
              "  </thead>\n",
              "  <tbody>\n",
              "    <tr>\n",
              "      <th>1</th>\n",
              "      <td>NaN</td>\n",
              "      <td>NaN</td>\n",
              "      <td>Our Deeds are the Reason of this #earthquake M...</td>\n",
              "      <td>1</td>\n",
              "    </tr>\n",
              "    <tr>\n",
              "      <th>4</th>\n",
              "      <td>NaN</td>\n",
              "      <td>NaN</td>\n",
              "      <td>Forest fire near La Ronge Sask. Canada</td>\n",
              "      <td>1</td>\n",
              "    </tr>\n",
              "    <tr>\n",
              "      <th>5</th>\n",
              "      <td>NaN</td>\n",
              "      <td>NaN</td>\n",
              "      <td>All residents asked to 'shelter in place' are ...</td>\n",
              "      <td>1</td>\n",
              "    </tr>\n",
              "    <tr>\n",
              "      <th>6</th>\n",
              "      <td>NaN</td>\n",
              "      <td>NaN</td>\n",
              "      <td>13,000 people receive #wildfires evacuation or...</td>\n",
              "      <td>1</td>\n",
              "    </tr>\n",
              "    <tr>\n",
              "      <th>7</th>\n",
              "      <td>NaN</td>\n",
              "      <td>NaN</td>\n",
              "      <td>Just got sent this photo from Ruby #Alaska as ...</td>\n",
              "      <td>1</td>\n",
              "    </tr>\n",
              "  </tbody>\n",
              "</table>\n",
              "</div>\n",
              "    <div class=\"colab-df-buttons\">\n",
              "\n",
              "  <div class=\"colab-df-container\">\n",
              "    <button class=\"colab-df-convert\" onclick=\"convertToInteractive('df-916a5be0-8dfc-4fe3-83b2-a7c45bb826e1')\"\n",
              "            title=\"Convert this dataframe to an interactive table.\"\n",
              "            style=\"display:none;\">\n",
              "\n",
              "  <svg xmlns=\"http://www.w3.org/2000/svg\" height=\"24px\" viewBox=\"0 -960 960 960\">\n",
              "    <path d=\"M120-120v-720h720v720H120Zm60-500h600v-160H180v160Zm220 220h160v-160H400v160Zm0 220h160v-160H400v160ZM180-400h160v-160H180v160Zm440 0h160v-160H620v160ZM180-180h160v-160H180v160Zm440 0h160v-160H620v160Z\"/>\n",
              "  </svg>\n",
              "    </button>\n",
              "\n",
              "  <style>\n",
              "    .colab-df-container {\n",
              "      display:flex;\n",
              "      gap: 12px;\n",
              "    }\n",
              "\n",
              "    .colab-df-convert {\n",
              "      background-color: #E8F0FE;\n",
              "      border: none;\n",
              "      border-radius: 50%;\n",
              "      cursor: pointer;\n",
              "      display: none;\n",
              "      fill: #1967D2;\n",
              "      height: 32px;\n",
              "      padding: 0 0 0 0;\n",
              "      width: 32px;\n",
              "    }\n",
              "\n",
              "    .colab-df-convert:hover {\n",
              "      background-color: #E2EBFA;\n",
              "      box-shadow: 0px 1px 2px rgba(60, 64, 67, 0.3), 0px 1px 3px 1px rgba(60, 64, 67, 0.15);\n",
              "      fill: #174EA6;\n",
              "    }\n",
              "\n",
              "    .colab-df-buttons div {\n",
              "      margin-bottom: 4px;\n",
              "    }\n",
              "\n",
              "    [theme=dark] .colab-df-convert {\n",
              "      background-color: #3B4455;\n",
              "      fill: #D2E3FC;\n",
              "    }\n",
              "\n",
              "    [theme=dark] .colab-df-convert:hover {\n",
              "      background-color: #434B5C;\n",
              "      box-shadow: 0px 1px 3px 1px rgba(0, 0, 0, 0.15);\n",
              "      filter: drop-shadow(0px 1px 2px rgba(0, 0, 0, 0.3));\n",
              "      fill: #FFFFFF;\n",
              "    }\n",
              "  </style>\n",
              "\n",
              "    <script>\n",
              "      const buttonEl =\n",
              "        document.querySelector('#df-916a5be0-8dfc-4fe3-83b2-a7c45bb826e1 button.colab-df-convert');\n",
              "      buttonEl.style.display =\n",
              "        google.colab.kernel.accessAllowed ? 'block' : 'none';\n",
              "\n",
              "      async function convertToInteractive(key) {\n",
              "        const element = document.querySelector('#df-916a5be0-8dfc-4fe3-83b2-a7c45bb826e1');\n",
              "        const dataTable =\n",
              "          await google.colab.kernel.invokeFunction('convertToInteractive',\n",
              "                                                    [key], {});\n",
              "        if (!dataTable) return;\n",
              "\n",
              "        const docLinkHtml = 'Like what you see? Visit the ' +\n",
              "          '<a target=\"_blank\" href=https://colab.research.google.com/notebooks/data_table.ipynb>data table notebook</a>'\n",
              "          + ' to learn more about interactive tables.';\n",
              "        element.innerHTML = '';\n",
              "        dataTable['output_type'] = 'display_data';\n",
              "        await google.colab.output.renderOutput(dataTable, element);\n",
              "        const docLink = document.createElement('div');\n",
              "        docLink.innerHTML = docLinkHtml;\n",
              "        element.appendChild(docLink);\n",
              "      }\n",
              "    </script>\n",
              "  </div>\n",
              "\n",
              "\n",
              "<div id=\"df-be833da1-1751-40c0-918b-f5bf3819f407\">\n",
              "  <button class=\"colab-df-quickchart\" onclick=\"quickchart('df-be833da1-1751-40c0-918b-f5bf3819f407')\"\n",
              "            title=\"Suggest charts.\"\n",
              "            style=\"display:none;\">\n",
              "\n",
              "<svg xmlns=\"http://www.w3.org/2000/svg\" height=\"24px\"viewBox=\"0 0 24 24\"\n",
              "     width=\"24px\">\n",
              "    <g>\n",
              "        <path d=\"M19 3H5c-1.1 0-2 .9-2 2v14c0 1.1.9 2 2 2h14c1.1 0 2-.9 2-2V5c0-1.1-.9-2-2-2zM9 17H7v-7h2v7zm4 0h-2V7h2v10zm4 0h-2v-4h2v4z\"/>\n",
              "    </g>\n",
              "</svg>\n",
              "  </button>\n",
              "\n",
              "<style>\n",
              "  .colab-df-quickchart {\n",
              "      --bg-color: #E8F0FE;\n",
              "      --fill-color: #1967D2;\n",
              "      --hover-bg-color: #E2EBFA;\n",
              "      --hover-fill-color: #174EA6;\n",
              "      --disabled-fill-color: #AAA;\n",
              "      --disabled-bg-color: #DDD;\n",
              "  }\n",
              "\n",
              "  [theme=dark] .colab-df-quickchart {\n",
              "      --bg-color: #3B4455;\n",
              "      --fill-color: #D2E3FC;\n",
              "      --hover-bg-color: #434B5C;\n",
              "      --hover-fill-color: #FFFFFF;\n",
              "      --disabled-bg-color: #3B4455;\n",
              "      --disabled-fill-color: #666;\n",
              "  }\n",
              "\n",
              "  .colab-df-quickchart {\n",
              "    background-color: var(--bg-color);\n",
              "    border: none;\n",
              "    border-radius: 50%;\n",
              "    cursor: pointer;\n",
              "    display: none;\n",
              "    fill: var(--fill-color);\n",
              "    height: 32px;\n",
              "    padding: 0;\n",
              "    width: 32px;\n",
              "  }\n",
              "\n",
              "  .colab-df-quickchart:hover {\n",
              "    background-color: var(--hover-bg-color);\n",
              "    box-shadow: 0 1px 2px rgba(60, 64, 67, 0.3), 0 1px 3px 1px rgba(60, 64, 67, 0.15);\n",
              "    fill: var(--button-hover-fill-color);\n",
              "  }\n",
              "\n",
              "  .colab-df-quickchart-complete:disabled,\n",
              "  .colab-df-quickchart-complete:disabled:hover {\n",
              "    background-color: var(--disabled-bg-color);\n",
              "    fill: var(--disabled-fill-color);\n",
              "    box-shadow: none;\n",
              "  }\n",
              "\n",
              "  .colab-df-spinner {\n",
              "    border: 2px solid var(--fill-color);\n",
              "    border-color: transparent;\n",
              "    border-bottom-color: var(--fill-color);\n",
              "    animation:\n",
              "      spin 1s steps(1) infinite;\n",
              "  }\n",
              "\n",
              "  @keyframes spin {\n",
              "    0% {\n",
              "      border-color: transparent;\n",
              "      border-bottom-color: var(--fill-color);\n",
              "      border-left-color: var(--fill-color);\n",
              "    }\n",
              "    20% {\n",
              "      border-color: transparent;\n",
              "      border-left-color: var(--fill-color);\n",
              "      border-top-color: var(--fill-color);\n",
              "    }\n",
              "    30% {\n",
              "      border-color: transparent;\n",
              "      border-left-color: var(--fill-color);\n",
              "      border-top-color: var(--fill-color);\n",
              "      border-right-color: var(--fill-color);\n",
              "    }\n",
              "    40% {\n",
              "      border-color: transparent;\n",
              "      border-right-color: var(--fill-color);\n",
              "      border-top-color: var(--fill-color);\n",
              "    }\n",
              "    60% {\n",
              "      border-color: transparent;\n",
              "      border-right-color: var(--fill-color);\n",
              "    }\n",
              "    80% {\n",
              "      border-color: transparent;\n",
              "      border-right-color: var(--fill-color);\n",
              "      border-bottom-color: var(--fill-color);\n",
              "    }\n",
              "    90% {\n",
              "      border-color: transparent;\n",
              "      border-bottom-color: var(--fill-color);\n",
              "    }\n",
              "  }\n",
              "</style>\n",
              "\n",
              "  <script>\n",
              "    async function quickchart(key) {\n",
              "      const quickchartButtonEl =\n",
              "        document.querySelector('#' + key + ' button');\n",
              "      quickchartButtonEl.disabled = true;  // To prevent multiple clicks.\n",
              "      quickchartButtonEl.classList.add('colab-df-spinner');\n",
              "      try {\n",
              "        const charts = await google.colab.kernel.invokeFunction(\n",
              "            'suggestCharts', [key], {});\n",
              "      } catch (error) {\n",
              "        console.error('Error during call to suggestCharts:', error);\n",
              "      }\n",
              "      quickchartButtonEl.classList.remove('colab-df-spinner');\n",
              "      quickchartButtonEl.classList.add('colab-df-quickchart-complete');\n",
              "    }\n",
              "    (() => {\n",
              "      let quickchartButtonEl =\n",
              "        document.querySelector('#df-be833da1-1751-40c0-918b-f5bf3819f407 button');\n",
              "      quickchartButtonEl.style.display =\n",
              "        google.colab.kernel.accessAllowed ? 'block' : 'none';\n",
              "    })();\n",
              "  </script>\n",
              "</div>\n",
              "    </div>\n",
              "  </div>\n"
            ]
          },
          "metadata": {},
          "execution_count": 4
        }
      ]
    },
    {
      "cell_type": "code",
      "source": [
        "# Display the number of rows and columns for the dataframe\n",
        "df.shape\n",
        "print(f'There are {df.shape[0]} rows, and {df.shape[1]} columns.')\n",
        "print(f'The rows represent {df.shape[0]} observations, and the columns represent {df.shape[1]-1} features and 1 target variable.')"
      ],
      "metadata": {
        "colab": {
          "base_uri": "https://localhost:8080/"
        },
        "id": "K1wYRXgT6BWs",
        "outputId": "f9d7528b-735b-4997-8cb8-b87389c39fff"
      },
      "execution_count": 5,
      "outputs": [
        {
          "output_type": "stream",
          "name": "stdout",
          "text": [
            "There are 7613 rows, and 4 columns.\n",
            "The rows represent 7613 observations, and the columns represent 3 features and 1 target variable.\n"
          ]
        }
      ]
    },
    {
      "cell_type": "code",
      "source": [
        "# count rows with missing values\n",
        "na_rows = df.isna().any(axis=1).sum()\n",
        "\n",
        "print(f'{na_rows} rows are missing data')\n",
        "print(f'{na_rows/len(df)*100:.1f}% of rows are missing data')"
      ],
      "metadata": {
        "id": "FbOA0i4xYzCu",
        "outputId": "0af239e6-71a9-4770-c70d-0ccd961471b5",
        "colab": {
          "base_uri": "https://localhost:8080/"
        }
      },
      "execution_count": 35,
      "outputs": [
        {
          "output_type": "stream",
          "name": "stdout",
          "text": [
            "0 rows are missing data\n",
            "0.0% of rows are missing data\n"
          ]
        }
      ]
    },
    {
      "cell_type": "markdown",
      "source": [
        "## Prepare the Data"
      ],
      "metadata": {
        "id": "fmN02lXR6FSE"
      }
    },
    {
      "cell_type": "code",
      "source": [
        "# Display the info for the dataframe\n",
        "df.info()"
      ],
      "metadata": {
        "colab": {
          "base_uri": "https://localhost:8080/"
        },
        "id": "pRdbdNd66Kmp",
        "outputId": "a7a585f6-ae07-4eb4-9852-7241806cdea2"
      },
      "execution_count": 6,
      "outputs": [
        {
          "output_type": "stream",
          "name": "stdout",
          "text": [
            "<class 'pandas.core.frame.DataFrame'>\n",
            "Int64Index: 7613 entries, 1 to 10873\n",
            "Data columns (total 4 columns):\n",
            " #   Column    Non-Null Count  Dtype \n",
            "---  ------    --------------  ----- \n",
            " 0   keyword   7552 non-null   object\n",
            " 1   location  5080 non-null   object\n",
            " 2   text      7613 non-null   object\n",
            " 3   target    7613 non-null   int64 \n",
            "dtypes: int64(1), object(3)\n",
            "memory usage: 297.4+ KB\n"
          ]
        }
      ]
    },
    {
      "cell_type": "code",
      "source": [
        "df.isna().sum()"
      ],
      "metadata": {
        "colab": {
          "base_uri": "https://localhost:8080/"
        },
        "id": "BY5qCfQ7GHf1",
        "outputId": "b967aa2f-1452-4b9c-922d-45c3233a0383"
      },
      "execution_count": 7,
      "outputs": [
        {
          "output_type": "execute_result",
          "data": {
            "text/plain": [
              "keyword       61\n",
              "location    2533\n",
              "text           0\n",
              "target         0\n",
              "dtype: int64"
            ]
          },
          "metadata": {},
          "execution_count": 7
        }
      ]
    },
    {
      "cell_type": "code",
      "source": [
        "# drop missing data\n",
        "df.dropna(inplace=True)\n",
        "print(df.info())"
      ],
      "metadata": {
        "colab": {
          "base_uri": "https://localhost:8080/"
        },
        "id": "fQ631X522x5F",
        "outputId": "291dfcf0-2c40-467c-bae3-2f8d6e967b37"
      },
      "execution_count": 37,
      "outputs": [
        {
          "output_type": "stream",
          "name": "stdout",
          "text": [
            "<class 'pandas.core.frame.DataFrame'>\n",
            "Int64Index: 5061 entries, 48 to 10833\n",
            "Data columns (total 4 columns):\n",
            " #   Column    Non-Null Count  Dtype \n",
            "---  ------    --------------  ----- \n",
            " 0   keyword   5061 non-null   object\n",
            " 1   location  5061 non-null   object\n",
            " 2   text      5061 non-null   object\n",
            " 3   target    5061 non-null   int64 \n",
            "dtypes: int64(1), object(3)\n",
            "memory usage: 197.7+ KB\n",
            "None\n"
          ]
        }
      ]
    },
    {
      "cell_type": "code",
      "source": [
        "df.isna().sum()"
      ],
      "metadata": {
        "colab": {
          "base_uri": "https://localhost:8080/"
        },
        "id": "_wWtH9Ra3B6e",
        "outputId": "af6cd0ae-ad8e-4766-84e9-29fc10753c6e"
      },
      "execution_count": 9,
      "outputs": [
        {
          "output_type": "execute_result",
          "data": {
            "text/plain": [
              "keyword     0\n",
              "location    0\n",
              "text        0\n",
              "target      0\n",
              "dtype: int64"
            ]
          },
          "metadata": {},
          "execution_count": 9
        }
      ]
    },
    {
      "cell_type": "code",
      "source": [
        "# check for duplicates\n",
        "df.duplicated().sum()"
      ],
      "metadata": {
        "colab": {
          "base_uri": "https://localhost:8080/"
        },
        "id": "PC6RVXaPP45W",
        "outputId": "2e66202a-d1ed-4ce7-8a32-5215bc3d9f78"
      },
      "execution_count": 10,
      "outputs": [
        {
          "output_type": "execute_result",
          "data": {
            "text/plain": [
              "19"
            ]
          },
          "metadata": {},
          "execution_count": 10
        }
      ]
    },
    {
      "cell_type": "code",
      "source": [
        "df = df.drop_duplicates()"
      ],
      "metadata": {
        "id": "rnyl1ZMYz11A"
      },
      "execution_count": 11,
      "outputs": []
    },
    {
      "cell_type": "code",
      "source": [
        "#check for duplicates\n",
        "df.duplicated().sum()"
      ],
      "metadata": {
        "colab": {
          "base_uri": "https://localhost:8080/"
        },
        "id": "elhlb--vz67x",
        "outputId": "830d3a78-b7fe-4c39-8f62-ed10fa0752ef"
      },
      "execution_count": 12,
      "outputs": [
        {
          "output_type": "execute_result",
          "data": {
            "text/plain": [
              "0"
            ]
          },
          "metadata": {},
          "execution_count": 12
        }
      ]
    },
    {
      "cell_type": "code",
      "source": [
        "df['target'].value_counts()"
      ],
      "metadata": {
        "id": "SMixm7bgZP4A",
        "outputId": "de6be082-1392-4a5e-c86f-4a7d98b3234f",
        "colab": {
          "base_uri": "https://localhost:8080/"
        }
      },
      "execution_count": 38,
      "outputs": [
        {
          "output_type": "execute_result",
          "data": {
            "text/plain": [
              "0    2877\n",
              "1    2184\n",
              "Name: target, dtype: int64"
            ]
          },
          "metadata": {},
          "execution_count": 38
        }
      ]
    },
    {
      "cell_type": "code",
      "source": [
        "# Save X data\n",
        "X = df.drop('target', axis=1)  # Features\n",
        "# Encode our target\n",
        "y = df['target']"
      ],
      "metadata": {
        "id": "tVOLYxIVGmCH"
      },
      "execution_count": 13,
      "outputs": []
    },
    {
      "cell_type": "code",
      "source": [
        "df.head()"
      ],
      "metadata": {
        "colab": {
          "base_uri": "https://localhost:8080/",
          "height": 237
        },
        "id": "_B3DcKKdH6wf",
        "outputId": "4d82a30d-a9e2-4b1e-9a37-af493dfd6c1f"
      },
      "execution_count": 14,
      "outputs": [
        {
          "output_type": "execute_result",
          "data": {
            "text/plain": [
              "   keyword                       location  \\\n",
              "id                                          \n",
              "48  ablaze                     Birmingham   \n",
              "49  ablaze  Est. September 2012 - Bristol   \n",
              "50  ablaze                         AFRICA   \n",
              "52  ablaze               Philadelphia, PA   \n",
              "53  ablaze                     London, UK   \n",
              "\n",
              "                                                 text  target  \n",
              "id                                                             \n",
              "48  @bbcmtd Wholesale Markets ablaze http://t.co/l...       1  \n",
              "49  We always try to bring the heavy. #metal #RT h...       0  \n",
              "50  #AFRICANBAZE: Breaking news:Nigeria flag set a...       1  \n",
              "52                 Crying out for more! Set me ablaze       0  \n",
              "53  On plus side LOOK AT THE SKY LAST NIGHT IT WAS...       0  "
            ],
            "text/html": [
              "\n",
              "  <div id=\"df-a9ea62da-ebd2-4ecd-9121-49a5d1fe374c\" class=\"colab-df-container\">\n",
              "    <div>\n",
              "<style scoped>\n",
              "    .dataframe tbody tr th:only-of-type {\n",
              "        vertical-align: middle;\n",
              "    }\n",
              "\n",
              "    .dataframe tbody tr th {\n",
              "        vertical-align: top;\n",
              "    }\n",
              "\n",
              "    .dataframe thead th {\n",
              "        text-align: right;\n",
              "    }\n",
              "</style>\n",
              "<table border=\"1\" class=\"dataframe\">\n",
              "  <thead>\n",
              "    <tr style=\"text-align: right;\">\n",
              "      <th></th>\n",
              "      <th>keyword</th>\n",
              "      <th>location</th>\n",
              "      <th>text</th>\n",
              "      <th>target</th>\n",
              "    </tr>\n",
              "    <tr>\n",
              "      <th>id</th>\n",
              "      <th></th>\n",
              "      <th></th>\n",
              "      <th></th>\n",
              "      <th></th>\n",
              "    </tr>\n",
              "  </thead>\n",
              "  <tbody>\n",
              "    <tr>\n",
              "      <th>48</th>\n",
              "      <td>ablaze</td>\n",
              "      <td>Birmingham</td>\n",
              "      <td>@bbcmtd Wholesale Markets ablaze http://t.co/l...</td>\n",
              "      <td>1</td>\n",
              "    </tr>\n",
              "    <tr>\n",
              "      <th>49</th>\n",
              "      <td>ablaze</td>\n",
              "      <td>Est. September 2012 - Bristol</td>\n",
              "      <td>We always try to bring the heavy. #metal #RT h...</td>\n",
              "      <td>0</td>\n",
              "    </tr>\n",
              "    <tr>\n",
              "      <th>50</th>\n",
              "      <td>ablaze</td>\n",
              "      <td>AFRICA</td>\n",
              "      <td>#AFRICANBAZE: Breaking news:Nigeria flag set a...</td>\n",
              "      <td>1</td>\n",
              "    </tr>\n",
              "    <tr>\n",
              "      <th>52</th>\n",
              "      <td>ablaze</td>\n",
              "      <td>Philadelphia, PA</td>\n",
              "      <td>Crying out for more! Set me ablaze</td>\n",
              "      <td>0</td>\n",
              "    </tr>\n",
              "    <tr>\n",
              "      <th>53</th>\n",
              "      <td>ablaze</td>\n",
              "      <td>London, UK</td>\n",
              "      <td>On plus side LOOK AT THE SKY LAST NIGHT IT WAS...</td>\n",
              "      <td>0</td>\n",
              "    </tr>\n",
              "  </tbody>\n",
              "</table>\n",
              "</div>\n",
              "    <div class=\"colab-df-buttons\">\n",
              "\n",
              "  <div class=\"colab-df-container\">\n",
              "    <button class=\"colab-df-convert\" onclick=\"convertToInteractive('df-a9ea62da-ebd2-4ecd-9121-49a5d1fe374c')\"\n",
              "            title=\"Convert this dataframe to an interactive table.\"\n",
              "            style=\"display:none;\">\n",
              "\n",
              "  <svg xmlns=\"http://www.w3.org/2000/svg\" height=\"24px\" viewBox=\"0 -960 960 960\">\n",
              "    <path d=\"M120-120v-720h720v720H120Zm60-500h600v-160H180v160Zm220 220h160v-160H400v160Zm0 220h160v-160H400v160ZM180-400h160v-160H180v160Zm440 0h160v-160H620v160ZM180-180h160v-160H180v160Zm440 0h160v-160H620v160Z\"/>\n",
              "  </svg>\n",
              "    </button>\n",
              "\n",
              "  <style>\n",
              "    .colab-df-container {\n",
              "      display:flex;\n",
              "      gap: 12px;\n",
              "    }\n",
              "\n",
              "    .colab-df-convert {\n",
              "      background-color: #E8F0FE;\n",
              "      border: none;\n",
              "      border-radius: 50%;\n",
              "      cursor: pointer;\n",
              "      display: none;\n",
              "      fill: #1967D2;\n",
              "      height: 32px;\n",
              "      padding: 0 0 0 0;\n",
              "      width: 32px;\n",
              "    }\n",
              "\n",
              "    .colab-df-convert:hover {\n",
              "      background-color: #E2EBFA;\n",
              "      box-shadow: 0px 1px 2px rgba(60, 64, 67, 0.3), 0px 1px 3px 1px rgba(60, 64, 67, 0.15);\n",
              "      fill: #174EA6;\n",
              "    }\n",
              "\n",
              "    .colab-df-buttons div {\n",
              "      margin-bottom: 4px;\n",
              "    }\n",
              "\n",
              "    [theme=dark] .colab-df-convert {\n",
              "      background-color: #3B4455;\n",
              "      fill: #D2E3FC;\n",
              "    }\n",
              "\n",
              "    [theme=dark] .colab-df-convert:hover {\n",
              "      background-color: #434B5C;\n",
              "      box-shadow: 0px 1px 3px 1px rgba(0, 0, 0, 0.15);\n",
              "      filter: drop-shadow(0px 1px 2px rgba(0, 0, 0, 0.3));\n",
              "      fill: #FFFFFF;\n",
              "    }\n",
              "  </style>\n",
              "\n",
              "    <script>\n",
              "      const buttonEl =\n",
              "        document.querySelector('#df-a9ea62da-ebd2-4ecd-9121-49a5d1fe374c button.colab-df-convert');\n",
              "      buttonEl.style.display =\n",
              "        google.colab.kernel.accessAllowed ? 'block' : 'none';\n",
              "\n",
              "      async function convertToInteractive(key) {\n",
              "        const element = document.querySelector('#df-a9ea62da-ebd2-4ecd-9121-49a5d1fe374c');\n",
              "        const dataTable =\n",
              "          await google.colab.kernel.invokeFunction('convertToInteractive',\n",
              "                                                    [key], {});\n",
              "        if (!dataTable) return;\n",
              "\n",
              "        const docLinkHtml = 'Like what you see? Visit the ' +\n",
              "          '<a target=\"_blank\" href=https://colab.research.google.com/notebooks/data_table.ipynb>data table notebook</a>'\n",
              "          + ' to learn more about interactive tables.';\n",
              "        element.innerHTML = '';\n",
              "        dataTable['output_type'] = 'display_data';\n",
              "        await google.colab.output.renderOutput(dataTable, element);\n",
              "        const docLink = document.createElement('div');\n",
              "        docLink.innerHTML = docLinkHtml;\n",
              "        element.appendChild(docLink);\n",
              "      }\n",
              "    </script>\n",
              "  </div>\n",
              "\n",
              "\n",
              "<div id=\"df-31c6b5bb-09c6-46ae-8ede-6414394c0964\">\n",
              "  <button class=\"colab-df-quickchart\" onclick=\"quickchart('df-31c6b5bb-09c6-46ae-8ede-6414394c0964')\"\n",
              "            title=\"Suggest charts.\"\n",
              "            style=\"display:none;\">\n",
              "\n",
              "<svg xmlns=\"http://www.w3.org/2000/svg\" height=\"24px\"viewBox=\"0 0 24 24\"\n",
              "     width=\"24px\">\n",
              "    <g>\n",
              "        <path d=\"M19 3H5c-1.1 0-2 .9-2 2v14c0 1.1.9 2 2 2h14c1.1 0 2-.9 2-2V5c0-1.1-.9-2-2-2zM9 17H7v-7h2v7zm4 0h-2V7h2v10zm4 0h-2v-4h2v4z\"/>\n",
              "    </g>\n",
              "</svg>\n",
              "  </button>\n",
              "\n",
              "<style>\n",
              "  .colab-df-quickchart {\n",
              "      --bg-color: #E8F0FE;\n",
              "      --fill-color: #1967D2;\n",
              "      --hover-bg-color: #E2EBFA;\n",
              "      --hover-fill-color: #174EA6;\n",
              "      --disabled-fill-color: #AAA;\n",
              "      --disabled-bg-color: #DDD;\n",
              "  }\n",
              "\n",
              "  [theme=dark] .colab-df-quickchart {\n",
              "      --bg-color: #3B4455;\n",
              "      --fill-color: #D2E3FC;\n",
              "      --hover-bg-color: #434B5C;\n",
              "      --hover-fill-color: #FFFFFF;\n",
              "      --disabled-bg-color: #3B4455;\n",
              "      --disabled-fill-color: #666;\n",
              "  }\n",
              "\n",
              "  .colab-df-quickchart {\n",
              "    background-color: var(--bg-color);\n",
              "    border: none;\n",
              "    border-radius: 50%;\n",
              "    cursor: pointer;\n",
              "    display: none;\n",
              "    fill: var(--fill-color);\n",
              "    height: 32px;\n",
              "    padding: 0;\n",
              "    width: 32px;\n",
              "  }\n",
              "\n",
              "  .colab-df-quickchart:hover {\n",
              "    background-color: var(--hover-bg-color);\n",
              "    box-shadow: 0 1px 2px rgba(60, 64, 67, 0.3), 0 1px 3px 1px rgba(60, 64, 67, 0.15);\n",
              "    fill: var(--button-hover-fill-color);\n",
              "  }\n",
              "\n",
              "  .colab-df-quickchart-complete:disabled,\n",
              "  .colab-df-quickchart-complete:disabled:hover {\n",
              "    background-color: var(--disabled-bg-color);\n",
              "    fill: var(--disabled-fill-color);\n",
              "    box-shadow: none;\n",
              "  }\n",
              "\n",
              "  .colab-df-spinner {\n",
              "    border: 2px solid var(--fill-color);\n",
              "    border-color: transparent;\n",
              "    border-bottom-color: var(--fill-color);\n",
              "    animation:\n",
              "      spin 1s steps(1) infinite;\n",
              "  }\n",
              "\n",
              "  @keyframes spin {\n",
              "    0% {\n",
              "      border-color: transparent;\n",
              "      border-bottom-color: var(--fill-color);\n",
              "      border-left-color: var(--fill-color);\n",
              "    }\n",
              "    20% {\n",
              "      border-color: transparent;\n",
              "      border-left-color: var(--fill-color);\n",
              "      border-top-color: var(--fill-color);\n",
              "    }\n",
              "    30% {\n",
              "      border-color: transparent;\n",
              "      border-left-color: var(--fill-color);\n",
              "      border-top-color: var(--fill-color);\n",
              "      border-right-color: var(--fill-color);\n",
              "    }\n",
              "    40% {\n",
              "      border-color: transparent;\n",
              "      border-right-color: var(--fill-color);\n",
              "      border-top-color: var(--fill-color);\n",
              "    }\n",
              "    60% {\n",
              "      border-color: transparent;\n",
              "      border-right-color: var(--fill-color);\n",
              "    }\n",
              "    80% {\n",
              "      border-color: transparent;\n",
              "      border-right-color: var(--fill-color);\n",
              "      border-bottom-color: var(--fill-color);\n",
              "    }\n",
              "    90% {\n",
              "      border-color: transparent;\n",
              "      border-bottom-color: var(--fill-color);\n",
              "    }\n",
              "  }\n",
              "</style>\n",
              "\n",
              "  <script>\n",
              "    async function quickchart(key) {\n",
              "      const quickchartButtonEl =\n",
              "        document.querySelector('#' + key + ' button');\n",
              "      quickchartButtonEl.disabled = true;  // To prevent multiple clicks.\n",
              "      quickchartButtonEl.classList.add('colab-df-spinner');\n",
              "      try {\n",
              "        const charts = await google.colab.kernel.invokeFunction(\n",
              "            'suggestCharts', [key], {});\n",
              "      } catch (error) {\n",
              "        console.error('Error during call to suggestCharts:', error);\n",
              "      }\n",
              "      quickchartButtonEl.classList.remove('colab-df-spinner');\n",
              "      quickchartButtonEl.classList.add('colab-df-quickchart-complete');\n",
              "    }\n",
              "    (() => {\n",
              "      let quickchartButtonEl =\n",
              "        document.querySelector('#df-31c6b5bb-09c6-46ae-8ede-6414394c0964 button');\n",
              "      quickchartButtonEl.style.display =\n",
              "        google.colab.kernel.accessAllowed ? 'block' : 'none';\n",
              "    })();\n",
              "  </script>\n",
              "</div>\n",
              "    </div>\n",
              "  </div>\n"
            ]
          },
          "metadata": {},
          "execution_count": 14
        }
      ]
    },
    {
      "cell_type": "markdown",
      "source": [
        "## Train/Test Split"
      ],
      "metadata": {
        "id": "6toCyqyLHMqf"
      }
    },
    {
      "cell_type": "code",
      "source": [
        "# Train test split\n",
        "X_train, X_test, y_train, y_test = train_test_split(X, y, random_state=3)"
      ],
      "metadata": {
        "id": "HXbYAdczHQWu"
      },
      "execution_count": 15,
      "outputs": []
    },
    {
      "cell_type": "code",
      "source": [
        "# Check class balance\n",
        "y_train.value_counts(normalize=True)"
      ],
      "metadata": {
        "colab": {
          "base_uri": "https://localhost:8080/"
        },
        "id": "qZ5UJbkfNAih",
        "outputId": "bb0f3e7a-ca4c-49d6-b65d-940cbcc4121a"
      },
      "execution_count": 16,
      "outputs": [
        {
          "output_type": "execute_result",
          "data": {
            "text/plain": [
              "0    0.566798\n",
              "1    0.433202\n",
              "Name: target, dtype: float64"
            ]
          },
          "metadata": {},
          "execution_count": 16
        }
      ]
    },
    {
      "cell_type": "markdown",
      "source": [
        "### Transformer"
      ],
      "metadata": {
        "id": "QoObv8fE8N-b"
      }
    },
    {
      "cell_type": "code",
      "source": [
        "# Categorical Preprocessing Pipeline\n",
        "# Save list of column names\n",
        "ohe_cols = X_train.select_dtypes('object').columns\n",
        "print(\"OneHotEncoder Columns:\", ohe_cols)\n",
        "# Instantiate the individual preprocessors\n",
        "impute_na = SimpleImputer(strategy='constant', fill_value = \"Missing\")\n",
        "ohe_encoder = OneHotEncoder(sparse_output=False, handle_unknown='ignore')\n",
        "# Make pipeline with imputer and encoder\n",
        "ohe_pipe = make_pipeline(impute_na, ohe_encoder)\n",
        "# Making a ohe_tuple for ColumnTransformer\n",
        "ohe_tuple = ('categorical', ohe_pipe, ohe_cols)\n",
        "# Numerical Preprocessing Pipeline\n",
        "# Save list of column names\n",
        "num_cols = X_train.select_dtypes(\"number\").columns\n",
        "print(\"Numeric Columns:\", num_cols)\n",
        "# instantiate preprocessors\n",
        "impute_median = SimpleImputer(strategy='median')\n",
        "scaler = StandardScaler()\n",
        "# Make a numeric preprocessing pipeline\n",
        "num_pipe = make_pipeline(impute_median, scaler)\n",
        "# Making a numeric tuple for ColumnTransformer\n",
        "num_tuple = ('numeric', num_pipe, num_cols)\n",
        "# Create the Column Transformer\n",
        "preprocessor = ColumnTransformer([num_tuple, ohe_tuple],\n",
        "                                 verbose_feature_names_out=False)"
      ],
      "metadata": {
        "colab": {
          "base_uri": "https://localhost:8080/"
        },
        "id": "xvu1ZQAx8HhI",
        "outputId": "266ea2b7-8691-4025-dceb-3d4751366abb"
      },
      "execution_count": 17,
      "outputs": [
        {
          "output_type": "stream",
          "name": "stdout",
          "text": [
            "OneHotEncoder Columns: Index(['keyword', 'location', 'text'], dtype='object')\n",
            "Numeric Columns: Index([], dtype='object')\n"
          ]
        }
      ]
    },
    {
      "cell_type": "code",
      "source": [
        "# process the data\n",
        "X_train_processed = preprocessor.fit_transform(X_train)\n",
        "X_test_processed = preprocessor.transform(X_test)"
      ],
      "metadata": {
        "id": "noslrogxQJOa"
      },
      "execution_count": 18,
      "outputs": []
    },
    {
      "cell_type": "markdown",
      "source": [
        "# Model 1"
      ],
      "metadata": {
        "id": "NQONlQoFQVi3"
      }
    },
    {
      "cell_type": "code",
      "source": [
        "# create and compile the model\n",
        "model = keras.Sequential()\n",
        "model.add(Dense(10, input_dim=6636, activation='relu'))\n",
        "model.add(Dense(5, activation='relu'))\n",
        "model.add(Dense(1, activation='sigmoid'))\n",
        "\n",
        "model.compile(optimizer='adam', loss='binary_crossentropy', metrics=['accuracy'])"
      ],
      "metadata": {
        "id": "0g-WRlwJQdaj"
      },
      "execution_count": 19,
      "outputs": []
    },
    {
      "cell_type": "code",
      "source": [
        "# Train the model and save the history\n",
        "history = model.fit(X_train_processed, y_train, validation_split=0.2, epochs=10)"
      ],
      "metadata": {
        "colab": {
          "base_uri": "https://localhost:8080/"
        },
        "id": "cx7UXIwSRQSU",
        "outputId": "1f94ca85-6e03-4d72-f93e-625a7ecfec66"
      },
      "execution_count": 20,
      "outputs": [
        {
          "output_type": "stream",
          "name": "stdout",
          "text": [
            "Epoch 1/10\n",
            "95/95 [==============================] - 2s 6ms/step - loss: 0.6841 - accuracy: 0.5718 - val_loss: 0.6801 - val_accuracy: 0.5402\n",
            "Epoch 2/10\n",
            "95/95 [==============================] - 0s 4ms/step - loss: 0.6292 - accuracy: 0.6182 - val_loss: 0.6303 - val_accuracy: 0.6627\n",
            "Epoch 3/10\n",
            "95/95 [==============================] - 0s 3ms/step - loss: 0.4822 - accuracy: 0.8485 - val_loss: 0.5790 - val_accuracy: 0.7036\n",
            "Epoch 4/10\n",
            "95/95 [==============================] - 0s 3ms/step - loss: 0.3046 - accuracy: 0.9209 - val_loss: 0.5673 - val_accuracy: 0.7101\n",
            "Epoch 5/10\n",
            "95/95 [==============================] - 0s 3ms/step - loss: 0.1699 - accuracy: 0.9684 - val_loss: 0.5841 - val_accuracy: 0.7088\n",
            "Epoch 6/10\n",
            "95/95 [==============================] - 0s 3ms/step - loss: 0.0909 - accuracy: 0.9901 - val_loss: 0.5990 - val_accuracy: 0.7088\n",
            "Epoch 7/10\n",
            "95/95 [==============================] - 0s 4ms/step - loss: 0.0511 - accuracy: 0.9954 - val_loss: 0.6251 - val_accuracy: 0.6891\n",
            "Epoch 8/10\n",
            "95/95 [==============================] - 0s 3ms/step - loss: 0.0310 - accuracy: 0.9987 - val_loss: 0.6411 - val_accuracy: 0.6957\n",
            "Epoch 9/10\n",
            "95/95 [==============================] - 0s 4ms/step - loss: 0.0204 - accuracy: 0.9993 - val_loss: 0.6615 - val_accuracy: 0.6877\n",
            "Epoch 10/10\n",
            "95/95 [==============================] - 0s 3ms/step - loss: 0.0145 - accuracy: 0.9997 - val_loss: 0.6757 - val_accuracy: 0.6891\n"
          ]
        }
      ]
    },
    {
      "cell_type": "code",
      "source": [
        "# Call the custom function\n",
        "plot_history(history);"
      ],
      "metadata": {
        "colab": {
          "base_uri": "https://localhost:8080/",
          "height": 1000
        },
        "id": "Mg_Cu3f3RVpN",
        "outputId": "452bfdbc-a812-4bae-b1e5-2e2f3d330e07"
      },
      "execution_count": 21,
      "outputs": [
        {
          "output_type": "display_data",
          "data": {
            "text/plain": [
              "<Figure size 600x1200 with 2 Axes>"
            ],
            "image/png": "[encoded data removed]"
          },
          "metadata": {}
        }
      ]
    },
    {
      "cell_type": "code",
      "source": [
        "# Evaluate neural network with builtin evaluation\n",
        "result = model.evaluate(X_test_processed, y_test,return_dict=True)\n",
        "result"
      ],
      "metadata": {
        "colab": {
          "base_uri": "https://localhost:8080/"
        },
        "id": "ZvKyWx7iRazS",
        "outputId": "6abd1246-a948-42dd-abe5-a99408e31c69"
      },
      "execution_count": 22,
      "outputs": [
        {
          "output_type": "stream",
          "name": "stdout",
          "text": [
            "40/40 [==============================] - 0s 2ms/step - loss: 0.7502 - accuracy: 0.6596\n"
          ]
        },
        {
          "output_type": "execute_result",
          "data": {
            "text/plain": [
              "{'loss': 0.7501885294914246, 'accuracy': 0.6595576405525208}"
            ]
          },
          "metadata": {},
          "execution_count": 22
        }
      ]
    },
    {
      "cell_type": "code",
      "source": [
        "# evaluate the model with sklearn metrics\n",
        "test_preds = model.predict(X_test_processed).round()\n",
        "print(classification_report(y_test, test_preds))\n",
        "conf_mat = confusion_matrix(y_test, test_preds)\n",
        "sns.heatmap(conf_mat, annot=True, fmt ='g');"
      ],
      "metadata": {
        "colab": {
          "base_uri": "https://localhost:8080/",
          "height": 604
        },
        "id": "mySI34poR51h",
        "outputId": "b22258e5-1015-4636-9d4e-598a164ae242"
      },
      "execution_count": 23,
      "outputs": [
        {
          "output_type": "stream",
          "name": "stdout",
          "text": [
            "40/40 [==============================] - 0s 1ms/step\n",
            "              precision    recall  f1-score   support\n",
            "\n",
            "           0       0.70      0.72      0.71       726\n",
            "           1       0.61      0.58      0.59       540\n",
            "\n",
            "    accuracy                           0.66      1266\n",
            "   macro avg       0.65      0.65      0.65      1266\n",
            "weighted avg       0.66      0.66      0.66      1266\n",
            "\n"
          ]
        },
        {
          "output_type": "display_data",
          "data": {
            "text/plain": [
              "<Figure size 640x480 with 2 Axes>"
            ],
            "image/png": "[encoded data removed]"
          },
          "metadata": {}
        }
      ]
    },
    {
      "cell_type": "markdown",
      "source": [
        "1. Precision: Precision measures the proportion of true positive predictions (correctly predicted positives) out of all positive predictions. For class 0, the precision is 0.71, and for class 1, it is 0.58.\n",
        "\n",
        "2. Recall: Recall measures the proportion of true positive predictions out of all actual positives. For class 0, the recall is 0.67, and for class 1, it is 0.63.\n",
        "\n",
        "3. F1-Score: The F1-score is the harmonic mean of precision and recall. It provides a balance between precision and recall. For class 0, the F1-score is 0.69, and for class 1, it is 0.61.\n",
        "\n",
        "4. Accuracy: The overall accuracy of your model on the test data is 0.65, which means it correctly predicts the class for 65% of the samples.\n"
      ],
      "metadata": {
        "id": "D3VAy5Yo80xr"
      }
    },
    {
      "cell_type": "markdown",
      "source": [
        "# Model 2: More Neurons"
      ],
      "metadata": {
        "id": "Ftqo2nl-UVdW"
      }
    },
    {
      "cell_type": "code",
      "source": [
        "# create model\n",
        "model2 = keras.Sequential()\n",
        "model2.add(Dense(20, input_dim=X_train_processed.shape[1],\n",
        "          activation = 'relu'))\n",
        "model2.add(Dense(5, activation = 'relu'))\n",
        "model2.add(Dense(1, activation = 'sigmoid'))\n",
        "\n",
        "model2.compile(optimizer = 'adam', loss = 'bce', metrics = 'accuracy')"
      ],
      "metadata": {
        "id": "NQWm2vPhUbi3"
      },
      "execution_count": 24,
      "outputs": []
    },
    {
      "cell_type": "code",
      "source": [
        "# train the model and save the history\n",
        "history = model2.fit(X_train_processed, y_train,\n",
        "          validation_split=(.2),\n",
        "          epochs = 10)"
      ],
      "metadata": {
        "colab": {
          "base_uri": "https://localhost:8080/"
        },
        "id": "SK9CujwxUgQM",
        "outputId": "4e8866a6-e740-44e2-b4ce-79cdb2b97909"
      },
      "execution_count": 25,
      "outputs": [
        {
          "output_type": "stream",
          "name": "stdout",
          "text": [
            "Epoch 1/10\n",
            "95/95 [==============================] - 1s 5ms/step - loss: 0.6872 - accuracy: 0.5599 - val_loss: 0.6825 - val_accuracy: 0.5481\n",
            "Epoch 2/10\n",
            "95/95 [==============================] - 0s 4ms/step - loss: 0.6283 - accuracy: 0.7540 - val_loss: 0.6187 - val_accuracy: 0.7325\n",
            "Epoch 3/10\n",
            "95/95 [==============================] - 0s 4ms/step - loss: 0.4509 - accuracy: 0.8778 - val_loss: 0.5672 - val_accuracy: 0.7286\n",
            "Epoch 4/10\n",
            "95/95 [==============================] - 0s 4ms/step - loss: 0.2599 - accuracy: 0.9420 - val_loss: 0.5727 - val_accuracy: 0.7088\n",
            "Epoch 5/10\n",
            "95/95 [==============================] - 0s 4ms/step - loss: 0.1318 - accuracy: 0.9779 - val_loss: 0.5940 - val_accuracy: 0.6943\n",
            "Epoch 6/10\n",
            "95/95 [==============================] - 0s 4ms/step - loss: 0.0665 - accuracy: 0.9944 - val_loss: 0.6102 - val_accuracy: 0.6943\n",
            "Epoch 7/10\n",
            "95/95 [==============================] - 1s 6ms/step - loss: 0.0337 - accuracy: 0.9974 - val_loss: 0.6410 - val_accuracy: 0.6957\n",
            "Epoch 8/10\n",
            "95/95 [==============================] - 0s 5ms/step - loss: 0.0169 - accuracy: 0.9990 - val_loss: 0.6669 - val_accuracy: 0.6957\n",
            "Epoch 9/10\n",
            "95/95 [==============================] - 0s 5ms/step - loss: 0.0100 - accuracy: 0.9990 - val_loss: 0.6914 - val_accuracy: 0.6864\n",
            "Epoch 10/10\n",
            "95/95 [==============================] - 1s 6ms/step - loss: 0.0067 - accuracy: 0.9990 - val_loss: 0.7095 - val_accuracy: 0.6864\n"
          ]
        }
      ]
    },
    {
      "cell_type": "code",
      "source": [
        "plot_history(history);"
      ],
      "metadata": {
        "colab": {
          "base_uri": "https://localhost:8080/",
          "height": 1000
        },
        "id": "WapDJeORUnt6",
        "outputId": "8258e64e-586b-4d47-8d22-5aa168568023"
      },
      "execution_count": 26,
      "outputs": [
        {
          "output_type": "display_data",
          "data": {
            "text/plain": [
              "<Figure size 600x1200 with 2 Axes>"
            ],
            "image/png": "[encoded data removed]"
          },
          "metadata": {}
        }
      ]
    },
    {
      "cell_type": "code",
      "source": [
        "# Evaluate neural network with builtin evaluation\n",
        "result = model2.evaluate(X_test_processed, y_test,return_dict=True)\n",
        "result"
      ],
      "metadata": {
        "id": "w_9u87FnUp6r",
        "colab": {
          "base_uri": "https://localhost:8080/"
        },
        "outputId": "b4cb4766-44b4-4c9a-9053-d10b3ca4740b"
      },
      "execution_count": 27,
      "outputs": [
        {
          "output_type": "stream",
          "name": "stdout",
          "text": [
            "40/40 [==============================] - 0s 1ms/step - loss: 0.7926 - accuracy: 0.6596\n"
          ]
        },
        {
          "output_type": "execute_result",
          "data": {
            "text/plain": [
              "{'loss': 0.7925969362258911, 'accuracy': 0.6595576405525208}"
            ]
          },
          "metadata": {},
          "execution_count": 27
        }
      ]
    },
    {
      "cell_type": "code",
      "source": [
        "# evaluate the model with sklearn metrics\n",
        "test_preds = model2.predict(X_test_processed).round()\n",
        "print(classification_report(y_test, test_preds))\n",
        "conf_mat = confusion_matrix(y_test, test_preds)\n",
        "sns.heatmap(conf_mat, annot=True, fmt = 'g');"
      ],
      "metadata": {
        "colab": {
          "base_uri": "https://localhost:8080/",
          "height": 604
        },
        "id": "8OnGi49yU0EO",
        "outputId": "e2f64bfd-0edc-483e-ce71-7dc1e60e740d"
      },
      "execution_count": 28,
      "outputs": [
        {
          "output_type": "stream",
          "name": "stdout",
          "text": [
            "40/40 [==============================] - 0s 1ms/step\n",
            "              precision    recall  f1-score   support\n",
            "\n",
            "           0       0.70      0.71      0.71       726\n",
            "           1       0.60      0.59      0.60       540\n",
            "\n",
            "    accuracy                           0.66      1266\n",
            "   macro avg       0.65      0.65      0.65      1266\n",
            "weighted avg       0.66      0.66      0.66      1266\n",
            "\n"
          ]
        },
        {
          "output_type": "display_data",
          "data": {
            "text/plain": [
              "<Figure size 640x480 with 2 Axes>"
            ],
            "image/png": "[encoded data removed]"
          },
          "metadata": {}
        }
      ]
    },
    {
      "cell_type": "markdown",
      "source": [
        "1. Precision: For class 0, the precision is 0.71, and for class 1, it is 0.59.\n",
        "\n",
        "2. Recall: For class 0, the recall is 0.67, and for class 1, it is 0.63.\n",
        "\n",
        "3. F1-Score: For class 0, the F1-score is 0.69, and for class 1, it is 0.61.\n",
        "\n",
        "4. Accuracy: The overall accuracy of model2 on the test data is 0.65, which means it correctly predicts the class for 65% of the samples.\n",
        "\n",
        "Comparing these metrics to the previous model (model1), it seems that model2 has similar performance in terms of precision, recall, and accuracy."
      ],
      "metadata": {
        "id": "L-_E87KF9Siz"
      }
    },
    {
      "cell_type": "markdown",
      "source": [
        "# Model 3: More layers"
      ],
      "metadata": {
        "id": "3fyNJv0MdAM0"
      }
    },
    {
      "cell_type": "code",
      "source": [
        "# create model\n",
        "model3 = keras.Sequential()\n",
        "model3.add(Dense(20, input_dim=X_train_processed.shape[1],\n",
        "        activation = 'relu'))\n",
        "model3.add(Dense(5, activation = 'relu'))\n",
        "model3.add(Dense(5, activation = 'relu'))\n",
        "model3.add(Dense(1, activation = 'sigmoid'))\n",
        "\n",
        "model3.compile(optimizer = 'adam', loss = 'bce', metrics = 'accuracy')"
      ],
      "metadata": {
        "id": "PEfKYlwCdFbo"
      },
      "execution_count": 29,
      "outputs": []
    },
    {
      "cell_type": "code",
      "source": [
        "# train the model and save the history\n",
        "history = model3.fit(X_train_processed, y_train,\n",
        "          validation_split = .2,\n",
        "          epochs = 10)"
      ],
      "metadata": {
        "colab": {
          "base_uri": "https://localhost:8080/"
        },
        "id": "zPlBWiPPdHtY",
        "outputId": "0f864891-cedb-4ddb-f459-7a2467d7fd23"
      },
      "execution_count": 30,
      "outputs": [
        {
          "output_type": "stream",
          "name": "stdout",
          "text": [
            "Epoch 1/10\n",
            "95/95 [==============================] - 1s 5ms/step - loss: 0.6842 - accuracy: 0.5715 - val_loss: 0.6805 - val_accuracy: 0.5402\n",
            "Epoch 2/10\n",
            "95/95 [==============================] - 0s 4ms/step - loss: 0.6299 - accuracy: 0.5751 - val_loss: 0.6354 - val_accuracy: 0.5705\n",
            "Epoch 3/10\n",
            "95/95 [==============================] - 0s 4ms/step - loss: 0.4358 - accuracy: 0.8432 - val_loss: 0.5587 - val_accuracy: 0.7339\n",
            "Epoch 4/10\n",
            "95/95 [==============================] - 0s 4ms/step - loss: 0.1853 - accuracy: 0.9522 - val_loss: 0.6014 - val_accuracy: 0.7115\n",
            "Epoch 5/10\n",
            "95/95 [==============================] - 0s 4ms/step - loss: 0.0605 - accuracy: 0.9895 - val_loss: 0.6484 - val_accuracy: 0.6930\n",
            "Epoch 6/10\n",
            "95/95 [==============================] - 0s 4ms/step - loss: 0.0233 - accuracy: 0.9987 - val_loss: 0.6828 - val_accuracy: 0.6864\n",
            "Epoch 7/10\n",
            "95/95 [==============================] - 0s 4ms/step - loss: 0.0116 - accuracy: 0.9990 - val_loss: 0.7116 - val_accuracy: 0.6877\n",
            "Epoch 8/10\n",
            "95/95 [==============================] - 0s 4ms/step - loss: 0.0069 - accuracy: 0.9993 - val_loss: 0.7371 - val_accuracy: 0.6904\n",
            "Epoch 9/10\n",
            "95/95 [==============================] - 0s 5ms/step - loss: 0.0048 - accuracy: 0.9997 - val_loss: 0.7567 - val_accuracy: 0.6877\n",
            "Epoch 10/10\n",
            "95/95 [==============================] - 0s 5ms/step - loss: 0.0034 - accuracy: 0.9997 - val_loss: 0.7795 - val_accuracy: 0.6891\n"
          ]
        }
      ]
    },
    {
      "cell_type": "code",
      "source": [
        "# Obtain history\n",
        "plot_history(history);"
      ],
      "metadata": {
        "colab": {
          "base_uri": "https://localhost:8080/",
          "height": 1000
        },
        "id": "ElN-cRd_dTdO",
        "outputId": "d474d90f-a7e4-4325-dddb-e16837236d3c"
      },
      "execution_count": 31,
      "outputs": [
        {
          "output_type": "display_data",
          "data": {
            "text/plain": [
              "<Figure size 600x1200 with 2 Axes>"
            ],
            "image/png": "[encoded data removed]"
          },
          "metadata": {}
        }
      ]
    },
    {
      "cell_type": "code",
      "source": [
        "# Evaluate neural network with builtin evaluation\n",
        "result = model3.evaluate(X_test_processed, y_test,return_dict=True)\n",
        "result"
      ],
      "metadata": {
        "colab": {
          "base_uri": "https://localhost:8080/"
        },
        "id": "rezP40eZdYWo",
        "outputId": "da48ce18-38bb-47a4-99e3-ae561a8e8492"
      },
      "execution_count": 32,
      "outputs": [
        {
          "output_type": "stream",
          "name": "stdout",
          "text": [
            "40/40 [==============================] - 0s 1ms/step - loss: 0.8763 - accuracy: 0.6469\n"
          ]
        },
        {
          "output_type": "execute_result",
          "data": {
            "text/plain": [
              "{'loss': 0.8763254880905151, 'accuracy': 0.6469194293022156}"
            ]
          },
          "metadata": {},
          "execution_count": 32
        }
      ]
    },
    {
      "cell_type": "code",
      "source": [
        "# evaluate the model\n",
        "test_preds = model3.predict(X_test_processed).round()\n",
        "print(classification_report(y_test, test_preds))\n",
        "conf_mat = confusion_matrix(y_test, test_preds)\n",
        "sns.heatmap(conf_mat, annot=True, fmt ='g');"
      ],
      "metadata": {
        "colab": {
          "base_uri": "https://localhost:8080/",
          "height": 604
        },
        "id": "8S7bpO13dejG",
        "outputId": "775004ad-dd58-44c2-9ec0-69a918655c92"
      },
      "execution_count": 33,
      "outputs": [
        {
          "output_type": "stream",
          "name": "stdout",
          "text": [
            "40/40 [==============================] - 0s 2ms/step\n",
            "              precision    recall  f1-score   support\n",
            "\n",
            "           0       0.69      0.70      0.69       726\n",
            "           1       0.59      0.58      0.58       540\n",
            "\n",
            "    accuracy                           0.65      1266\n",
            "   macro avg       0.64      0.64      0.64      1266\n",
            "weighted avg       0.65      0.65      0.65      1266\n",
            "\n"
          ]
        },
        {
          "output_type": "display_data",
          "data": {
            "text/plain": [
              "<Figure size 640x480 with 2 Axes>"
            ],
            "image/png": "[encoded data removed]"
          },
          "metadata": {}
        }
      ]
    },
    {
      "cell_type": "markdown",
      "source": [
        "1. Precision: For class 0, the precision is 0.74, and for class 1, it is 0.56.\n",
        "\n",
        "2. Recall: For class 0, the recall is 0.58, and for class 1, it is 0.73.\n",
        "\n",
        "3. F1-Score: For class 0, the F1-score is 0.65, and for class 1, it is 0.63.\n",
        "\n",
        "4. Accuracy: The overall accuracy of model3 on the test data is 0.64, which means it correctly predicts the class for 64% of the samples.\n",
        "\n",
        "Comparing these metrics to the previous models (model1 and model2), it appears that model3 has a different trade-off between precision and recall. It has higher recall for class 1 but lower precision compared to the other models."
      ],
      "metadata": {
        "id": "2Mne2SJg9hZJ"
      }
    },
    {
      "cell_type": "markdown",
      "source": [
        "### choose your model"
      ],
      "metadata": {
        "id": "-u-cffz695w9"
      }
    },
    {
      "cell_type": "markdown",
      "source": [
        "1. Model 1:\n",
        "\n",
        "- Precision for class 0: 0.71\n",
        "- Recall for class 0: 0.67\n",
        "- Precision for class 1: 0.58\n",
        "- Recall for class 1: 0.63\n",
        "- Accuracy: 0.65\n",
        "\n",
        "2. Model 2:\n",
        "\n",
        "- Precision for class 0: 0.71\n",
        "- Recall for class 0: 0.67\n",
        "- Precision for class 1: 0.59\n",
        "- Recall for class 1: 0.63\n",
        "- Accuracy: 0.65\n",
        "\n",
        "3. Model 3:\n",
        "\n",
        "- Precision for class 0: 0.74\n",
        "- Recall for class 0: 0.58\n",
        "- Precision for class 1: 0.56\n",
        "- Recall for class 1: 0.73\n",
        "- Accuracy: 0.64\n",
        "\n",
        "\n",
        "If we prioritize precision for class 0 and are willing to accept lower recall, we might prefer Model 1.\n",
        "\n",
        "If we want a more balanced trade-off between precision and recall, we might choose Model 2, which has similar performance to Model 1 but with slightly lower precision for class 0.\n",
        "\n",
        "If we prioritize recall for class 1 and are willing to accept lower precision, we might opt for Model 3."
      ],
      "metadata": {
        "id": "GizsqOzf9-uL"
      }
    }
  ]
}