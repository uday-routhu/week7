{
  "nbformat": 4,
  "nbformat_minor": 0,
  "metadata": {
    "colab": {
      "provenance": [],
      "authorship_tag": "ABX9TyOxANy4BjM1onQcDhMaNCoG",
      "include_colab_link": true
    },
    "kernelspec": {
      "name": "python3",
      "display_name": "Python 3"
    },
    "language_info": {
      "name": "python"
    }
  },
  "cells": [
    {
      "cell_type": "markdown",
      "metadata": {
        "id": "view-in-github",
        "colab_type": "text"
      },
      "source": [
        "<a href=\"https://colab.research.google.com/github/uday-routhu/week7/blob/master/Neural_Networks_Core.ipynb\" target=\"_parent\"><img src=\"https://colab.research.google.com/assets/colab-badge.svg\" alt=\"Open In Colab\"/></a>"
      ]
    },
    {
      "cell_type": "markdown",
      "source": [
        "## Neural Networks (Core)"
      ],
      "metadata": {
        "id": "yqSDZ_v65EGp"
      }
    },
    {
      "cell_type": "markdown",
      "source": [
        "- author: Udayakumar Routhu"
      ],
      "metadata": {
        "id": "rzvOYVT_5JmQ"
      }
    },
    {
      "cell_type": "markdown",
      "source": [
        "Required Task:\n",
        "1. Be sure to perform a train test split on the train.csv so you can evaluate your models.\n",
        "2. Create and evaluate 3 iterations of a deep learning model to predict housing prices using the techniques you have learned to optimize your model's performance.\n",
        "3. Be sure to include some form of regularization with at least one model.\n",
        "Select your best model!"
      ],
      "metadata": {
        "id": "aMjKSE735NzD"
      }
    },
    {
      "cell_type": "markdown",
      "source": [
        "1. What am I predicting?\n",
        "   - Natural Language Processing with Disaster Tweets\n",
        "Predict which Tweets are about real disasters and which ones are not\n",
        "  - predicting whether a given tweet is about a real disaster or not. If so, predict a 1. If not, predict a 0."
      ],
      "metadata": {
        "id": "DwmnTtfc6ia0"
      }
    },
    {
      "cell_type": "markdown",
      "source": [
        "### Source of data\n",
        "  The data can be downloaded from [this link](https://www.kaggle.com/competitions/nlp-getting-started/data)"
      ],
      "metadata": {
        "id": "a0bokvMI7uhp"
      }
    },
    {
      "cell_type": "markdown",
      "source": [
        "### Import Libraries"
      ],
      "metadata": {
        "id": "ZWiqy6aT5Yjz"
      }
    },
    {
      "cell_type": "code",
      "source": [
        "# imports\n",
        "import pandas as pd\n",
        "from sklearn.preprocessing import StandardScaler, OneHotEncoder\n",
        "from sklearn.pipeline import make_pipeline\n",
        "from sklearn.compose import make_column_selector, ColumnTransformer\n",
        "from sklearn.model_selection import train_test_split\n",
        "from sklearn.metrics import classification_report, confusion_matrix\n",
        "from tensorflow import keras\n",
        "from keras.layers import Dense\n",
        "import matplotlib.pyplot as plt\n",
        "import seaborn as sns\n",
        "from sklearn.impute import SimpleImputer\n",
        "\n",
        "\n",
        "# Set global scikit-learn configuration\n",
        "from sklearn import set_config\n",
        "# Display estimators as a diagram\n",
        "set_config(display='diagram') # 'text' or 'diagram'}"
      ],
      "metadata": {
        "id": "ZBqHtTu_5TdX"
      },
      "execution_count": 1,
      "outputs": []
    },
    {
      "cell_type": "code",
      "source": [
        "def plot_history(history, figsize=(6,12), marker='o'):\n",
        "\n",
        "    # Get list of metrics from history\n",
        "    metrics = [c for c in history.history if not c.startswith('val_')]\n",
        "\n",
        "    ## Separate row for each metric\n",
        "    fig, axes = plt.subplots(nrows=len(metrics),figsize=figsize)\n",
        "\n",
        "    # For each metric\n",
        "    for i, metric_name in enumerate(metrics):\n",
        "\n",
        "        # Get the axis for the current metric\n",
        "        ax = axes[i]\n",
        "\n",
        "        # Get metric from history.history\n",
        "        metric_values = history.history[metric_name]\n",
        "        # Get epochs from history\n",
        "        epochs = history.epoch\n",
        "\n",
        "        # Plot the training metric\n",
        "        ax.plot(epochs, metric_values, label=metric_name, marker=marker)\n",
        "\n",
        "        ## Check if val_{metric} exists. if so, plot:\n",
        "        val_metric_name = f\"val_{metric_name}\"\n",
        "        if val_metric_name in history.history:\n",
        "            # Get validation values and plot\n",
        "            metric_values = history.history[val_metric_name]\n",
        "            ax.plot(epochs,metric_values,label=val_metric_name, marker=marker)\n",
        "\n",
        "        # Final subplot adjustments\n",
        "        ax.legend()\n",
        "        ax.set_title(metric_name)\n",
        "    fig.tight_layout()\n",
        "\n",
        "    return fig, axes"
      ],
      "metadata": {
        "id": "J3gCHg3eQoyi"
      },
      "execution_count": 2,
      "outputs": []
    },
    {
      "cell_type": "code",
      "source": [
        "# Mount google drive\n",
        "from google.colab import drive\n",
        "drive.mount('/content/drive')"
      ],
      "metadata": {
        "colab": {
          "base_uri": "https://localhost:8080/"
        },
        "id": "GYy0ka-_5hMf",
        "outputId": "8aa5fa0a-5c6f-4a06-92b8-c4f587d0c592"
      },
      "execution_count": 3,
      "outputs": [
        {
          "output_type": "stream",
          "name": "stdout",
          "text": [
            "Mounted at /content/drive\n"
          ]
        }
      ]
    },
    {
      "cell_type": "code",
      "source": [
        "# Load in the dataset from url\n",
        "fpath = \"/content/drive/MyDrive/CodingDojo/03-AdvancedML/Week11/Data/train.csv\"\n",
        "df = pd.read_csv(fpath, index_col=0)\n",
        "df.head()"
      ],
      "metadata": {
        "colab": {
          "base_uri": "https://localhost:8080/",
          "height": 237
        },
        "id": "Ky2-k4Gs52ev",
        "outputId": "bcf59c6e-1dd2-46bb-ee01-7b7ec947f242"
      },
      "execution_count": 4,
      "outputs": [
        {
          "output_type": "execute_result",
          "data": {
            "text/plain": [
              "   keyword location                                               text  target\n",
              "id                                                                            \n",
              "1      NaN      NaN  Our Deeds are the Reason of this #earthquake M...       1\n",
              "4      NaN      NaN             Forest fire near La Ronge Sask. Canada       1\n",
              "5      NaN      NaN  All residents asked to 'shelter in place' are ...       1\n",
              "6      NaN      NaN  13,000 people receive #wildfires evacuation or...       1\n",
              "7      NaN      NaN  Just got sent this photo from Ruby #Alaska as ...       1"
            ],
            "text/html": [
              "\n",
              "  <div id=\"df-f98788a4-1c54-4458-a447-1e16229fd49f\" class=\"colab-df-container\">\n",
              "    <div>\n",
              "<style scoped>\n",
              "    .dataframe tbody tr th:only-of-type {\n",
              "        vertical-align: middle;\n",
              "    }\n",
              "\n",
              "    .dataframe tbody tr th {\n",
              "        vertical-align: top;\n",
              "    }\n",
              "\n",
              "    .dataframe thead th {\n",
              "        text-align: right;\n",
              "    }\n",
              "</style>\n",
              "<table border=\"1\" class=\"dataframe\">\n",
              "  <thead>\n",
              "    <tr style=\"text-align: right;\">\n",
              "      <th></th>\n",
              "      <th>keyword</th>\n",
              "      <th>location</th>\n",
              "      <th>text</th>\n",
              "      <th>target</th>\n",
              "    </tr>\n",
              "    <tr>\n",
              "      <th>id</th>\n",
              "      <th></th>\n",
              "      <th></th>\n",
              "      <th></th>\n",
              "      <th></th>\n",
              "    </tr>\n",
              "  </thead>\n",
              "  <tbody>\n",
              "    <tr>\n",
              "      <th>1</th>\n",
              "      <td>NaN</td>\n",
              "      <td>NaN</td>\n",
              "      <td>Our Deeds are the Reason of this #earthquake M...</td>\n",
              "      <td>1</td>\n",
              "    </tr>\n",
              "    <tr>\n",
              "      <th>4</th>\n",
              "      <td>NaN</td>\n",
              "      <td>NaN</td>\n",
              "      <td>Forest fire near La Ronge Sask. Canada</td>\n",
              "      <td>1</td>\n",
              "    </tr>\n",
              "    <tr>\n",
              "      <th>5</th>\n",
              "      <td>NaN</td>\n",
              "      <td>NaN</td>\n",
              "      <td>All residents asked to 'shelter in place' are ...</td>\n",
              "      <td>1</td>\n",
              "    </tr>\n",
              "    <tr>\n",
              "      <th>6</th>\n",
              "      <td>NaN</td>\n",
              "      <td>NaN</td>\n",
              "      <td>13,000 people receive #wildfires evacuation or...</td>\n",
              "      <td>1</td>\n",
              "    </tr>\n",
              "    <tr>\n",
              "      <th>7</th>\n",
              "      <td>NaN</td>\n",
              "      <td>NaN</td>\n",
              "      <td>Just got sent this photo from Ruby #Alaska as ...</td>\n",
              "      <td>1</td>\n",
              "    </tr>\n",
              "  </tbody>\n",
              "</table>\n",
              "</div>\n",
              "    <div class=\"colab-df-buttons\">\n",
              "\n",
              "  <div class=\"colab-df-container\">\n",
              "    <button class=\"colab-df-convert\" onclick=\"convertToInteractive('df-f98788a4-1c54-4458-a447-1e16229fd49f')\"\n",
              "            title=\"Convert this dataframe to an interactive table.\"\n",
              "            style=\"display:none;\">\n",
              "\n",
              "  <svg xmlns=\"http://www.w3.org/2000/svg\" height=\"24px\" viewBox=\"0 -960 960 960\">\n",
              "    <path d=\"M120-120v-720h720v720H120Zm60-500h600v-160H180v160Zm220 220h160v-160H400v160Zm0 220h160v-160H400v160ZM180-400h160v-160H180v160Zm440 0h160v-160H620v160ZM180-180h160v-160H180v160Zm440 0h160v-160H620v160Z\"/>\n",
              "  </svg>\n",
              "    </button>\n",
              "\n",
              "  <style>\n",
              "    .colab-df-container {\n",
              "      display:flex;\n",
              "      gap: 12px;\n",
              "    }\n",
              "\n",
              "    .colab-df-convert {\n",
              "      background-color: #E8F0FE;\n",
              "      border: none;\n",
              "      border-radius: 50%;\n",
              "      cursor: pointer;\n",
              "      display: none;\n",
              "      fill: #1967D2;\n",
              "      height: 32px;\n",
              "      padding: 0 0 0 0;\n",
              "      width: 32px;\n",
              "    }\n",
              "\n",
              "    .colab-df-convert:hover {\n",
              "      background-color: #E2EBFA;\n",
              "      box-shadow: 0px 1px 2px rgba(60, 64, 67, 0.3), 0px 1px 3px 1px rgba(60, 64, 67, 0.15);\n",
              "      fill: #174EA6;\n",
              "    }\n",
              "\n",
              "    .colab-df-buttons div {\n",
              "      margin-bottom: 4px;\n",
              "    }\n",
              "\n",
              "    [theme=dark] .colab-df-convert {\n",
              "      background-color: #3B4455;\n",
              "      fill: #D2E3FC;\n",
              "    }\n",
              "\n",
              "    [theme=dark] .colab-df-convert:hover {\n",
              "      background-color: #434B5C;\n",
              "      box-shadow: 0px 1px 3px 1px rgba(0, 0, 0, 0.15);\n",
              "      filter: drop-shadow(0px 1px 2px rgba(0, 0, 0, 0.3));\n",
              "      fill: #FFFFFF;\n",
              "    }\n",
              "  </style>\n",
              "\n",
              "    <script>\n",
              "      const buttonEl =\n",
              "        document.querySelector('#df-f98788a4-1c54-4458-a447-1e16229fd49f button.colab-df-convert');\n",
              "      buttonEl.style.display =\n",
              "        google.colab.kernel.accessAllowed ? 'block' : 'none';\n",
              "\n",
              "      async function convertToInteractive(key) {\n",
              "        const element = document.querySelector('#df-f98788a4-1c54-4458-a447-1e16229fd49f');\n",
              "        const dataTable =\n",
              "          await google.colab.kernel.invokeFunction('convertToInteractive',\n",
              "                                                    [key], {});\n",
              "        if (!dataTable) return;\n",
              "\n",
              "        const docLinkHtml = 'Like what you see? Visit the ' +\n",
              "          '<a target=\"_blank\" href=https://colab.research.google.com/notebooks/data_table.ipynb>data table notebook</a>'\n",
              "          + ' to learn more about interactive tables.';\n",
              "        element.innerHTML = '';\n",
              "        dataTable['output_type'] = 'display_data';\n",
              "        await google.colab.output.renderOutput(dataTable, element);\n",
              "        const docLink = document.createElement('div');\n",
              "        docLink.innerHTML = docLinkHtml;\n",
              "        element.appendChild(docLink);\n",
              "      }\n",
              "    </script>\n",
              "  </div>\n",
              "\n",
              "\n",
              "<div id=\"df-6444f315-9434-494e-84f8-ec5bd3d4a985\">\n",
              "  <button class=\"colab-df-quickchart\" onclick=\"quickchart('df-6444f315-9434-494e-84f8-ec5bd3d4a985')\"\n",
              "            title=\"Suggest charts.\"\n",
              "            style=\"display:none;\">\n",
              "\n",
              "<svg xmlns=\"http://www.w3.org/2000/svg\" height=\"24px\"viewBox=\"0 0 24 24\"\n",
              "     width=\"24px\">\n",
              "    <g>\n",
              "        <path d=\"M19 3H5c-1.1 0-2 .9-2 2v14c0 1.1.9 2 2 2h14c1.1 0 2-.9 2-2V5c0-1.1-.9-2-2-2zM9 17H7v-7h2v7zm4 0h-2V7h2v10zm4 0h-2v-4h2v4z\"/>\n",
              "    </g>\n",
              "</svg>\n",
              "  </button>\n",
              "\n",
              "<style>\n",
              "  .colab-df-quickchart {\n",
              "      --bg-color: #E8F0FE;\n",
              "      --fill-color: #1967D2;\n",
              "      --hover-bg-color: #E2EBFA;\n",
              "      --hover-fill-color: #174EA6;\n",
              "      --disabled-fill-color: #AAA;\n",
              "      --disabled-bg-color: #DDD;\n",
              "  }\n",
              "\n",
              "  [theme=dark] .colab-df-quickchart {\n",
              "      --bg-color: #3B4455;\n",
              "      --fill-color: #D2E3FC;\n",
              "      --hover-bg-color: #434B5C;\n",
              "      --hover-fill-color: #FFFFFF;\n",
              "      --disabled-bg-color: #3B4455;\n",
              "      --disabled-fill-color: #666;\n",
              "  }\n",
              "\n",
              "  .colab-df-quickchart {\n",
              "    background-color: var(--bg-color);\n",
              "    border: none;\n",
              "    border-radius: 50%;\n",
              "    cursor: pointer;\n",
              "    display: none;\n",
              "    fill: var(--fill-color);\n",
              "    height: 32px;\n",
              "    padding: 0;\n",
              "    width: 32px;\n",
              "  }\n",
              "\n",
              "  .colab-df-quickchart:hover {\n",
              "    background-color: var(--hover-bg-color);\n",
              "    box-shadow: 0 1px 2px rgba(60, 64, 67, 0.3), 0 1px 3px 1px rgba(60, 64, 67, 0.15);\n",
              "    fill: var(--button-hover-fill-color);\n",
              "  }\n",
              "\n",
              "  .colab-df-quickchart-complete:disabled,\n",
              "  .colab-df-quickchart-complete:disabled:hover {\n",
              "    background-color: var(--disabled-bg-color);\n",
              "    fill: var(--disabled-fill-color);\n",
              "    box-shadow: none;\n",
              "  }\n",
              "\n",
              "  .colab-df-spinner {\n",
              "    border: 2px solid var(--fill-color);\n",
              "    border-color: transparent;\n",
              "    border-bottom-color: var(--fill-color);\n",
              "    animation:\n",
              "      spin 1s steps(1) infinite;\n",
              "  }\n",
              "\n",
              "  @keyframes spin {\n",
              "    0% {\n",
              "      border-color: transparent;\n",
              "      border-bottom-color: var(--fill-color);\n",
              "      border-left-color: var(--fill-color);\n",
              "    }\n",
              "    20% {\n",
              "      border-color: transparent;\n",
              "      border-left-color: var(--fill-color);\n",
              "      border-top-color: var(--fill-color);\n",
              "    }\n",
              "    30% {\n",
              "      border-color: transparent;\n",
              "      border-left-color: var(--fill-color);\n",
              "      border-top-color: var(--fill-color);\n",
              "      border-right-color: var(--fill-color);\n",
              "    }\n",
              "    40% {\n",
              "      border-color: transparent;\n",
              "      border-right-color: var(--fill-color);\n",
              "      border-top-color: var(--fill-color);\n",
              "    }\n",
              "    60% {\n",
              "      border-color: transparent;\n",
              "      border-right-color: var(--fill-color);\n",
              "    }\n",
              "    80% {\n",
              "      border-color: transparent;\n",
              "      border-right-color: var(--fill-color);\n",
              "      border-bottom-color: var(--fill-color);\n",
              "    }\n",
              "    90% {\n",
              "      border-color: transparent;\n",
              "      border-bottom-color: var(--fill-color);\n",
              "    }\n",
              "  }\n",
              "</style>\n",
              "\n",
              "  <script>\n",
              "    async function quickchart(key) {\n",
              "      const quickchartButtonEl =\n",
              "        document.querySelector('#' + key + ' button');\n",
              "      quickchartButtonEl.disabled = true;  // To prevent multiple clicks.\n",
              "      quickchartButtonEl.classList.add('colab-df-spinner');\n",
              "      try {\n",
              "        const charts = await google.colab.kernel.invokeFunction(\n",
              "            'suggestCharts', [key], {});\n",
              "      } catch (error) {\n",
              "        console.error('Error during call to suggestCharts:', error);\n",
              "      }\n",
              "      quickchartButtonEl.classList.remove('colab-df-spinner');\n",
              "      quickchartButtonEl.classList.add('colab-df-quickchart-complete');\n",
              "    }\n",
              "    (() => {\n",
              "      let quickchartButtonEl =\n",
              "        document.querySelector('#df-6444f315-9434-494e-84f8-ec5bd3d4a985 button');\n",
              "      quickchartButtonEl.style.display =\n",
              "        google.colab.kernel.accessAllowed ? 'block' : 'none';\n",
              "    })();\n",
              "  </script>\n",
              "</div>\n",
              "    </div>\n",
              "  </div>\n"
            ]
          },
          "metadata": {},
          "execution_count": 4
        }
      ]
    },
    {
      "cell_type": "code",
      "source": [
        "# Display the number of rows and columns for the dataframe\n",
        "df.shape\n",
        "print(f'There are {df.shape[0]} rows, and {df.shape[1]} columns.')\n",
        "print(f'The rows represent {df.shape[0]} observations, and the columns represent {df.shape[1]-1} features and 1 target variable.')"
      ],
      "metadata": {
        "colab": {
          "base_uri": "https://localhost:8080/"
        },
        "id": "K1wYRXgT6BWs",
        "outputId": "3b78af77-12a3-46ed-eb85-e1daa1066c19"
      },
      "execution_count": 5,
      "outputs": [
        {
          "output_type": "stream",
          "name": "stdout",
          "text": [
            "There are 7613 rows, and 4 columns.\n",
            "The rows represent 7613 observations, and the columns represent 3 features and 1 target variable.\n"
          ]
        }
      ]
    },
    {
      "cell_type": "code",
      "source": [
        "# count rows with missing values\n",
        "na_rows = df.isna().any(axis=1).sum()\n",
        "\n",
        "print(f'{na_rows} rows are missing data')\n",
        "print(f'{na_rows/len(df)*100:.1f}% of rows are missing data')"
      ],
      "metadata": {
        "colab": {
          "base_uri": "https://localhost:8080/"
        },
        "id": "FbOA0i4xYzCu",
        "outputId": "d0389f05-71ef-4b38-a6c4-450259b8fd66"
      },
      "execution_count": 6,
      "outputs": [
        {
          "output_type": "stream",
          "name": "stdout",
          "text": [
            "2533 rows are missing data\n",
            "33.3% of rows are missing data\n"
          ]
        }
      ]
    },
    {
      "cell_type": "markdown",
      "source": [
        "## Prepare the Data"
      ],
      "metadata": {
        "id": "fmN02lXR6FSE"
      }
    },
    {
      "cell_type": "code",
      "source": [
        "# Display the info for the dataframe\n",
        "df.info()"
      ],
      "metadata": {
        "colab": {
          "base_uri": "https://localhost:8080/"
        },
        "id": "pRdbdNd66Kmp",
        "outputId": "14bd9621-6136-4340-e08a-750707e82f7d"
      },
      "execution_count": 7,
      "outputs": [
        {
          "output_type": "stream",
          "name": "stdout",
          "text": [
            "<class 'pandas.core.frame.DataFrame'>\n",
            "Int64Index: 7613 entries, 1 to 10873\n",
            "Data columns (total 4 columns):\n",
            " #   Column    Non-Null Count  Dtype \n",
            "---  ------    --------------  ----- \n",
            " 0   keyword   7552 non-null   object\n",
            " 1   location  5080 non-null   object\n",
            " 2   text      7613 non-null   object\n",
            " 3   target    7613 non-null   int64 \n",
            "dtypes: int64(1), object(3)\n",
            "memory usage: 297.4+ KB\n"
          ]
        }
      ]
    },
    {
      "cell_type": "code",
      "source": [
        "df.isna().sum()"
      ],
      "metadata": {
        "colab": {
          "base_uri": "https://localhost:8080/"
        },
        "id": "BY5qCfQ7GHf1",
        "outputId": "d89ddf15-1edf-44b3-e409-14445a25b71e"
      },
      "execution_count": 8,
      "outputs": [
        {
          "output_type": "execute_result",
          "data": {
            "text/plain": [
              "keyword       61\n",
              "location    2533\n",
              "text           0\n",
              "target         0\n",
              "dtype: int64"
            ]
          },
          "metadata": {},
          "execution_count": 8
        }
      ]
    },
    {
      "cell_type": "code",
      "source": [
        "# drop missing data\n",
        "df.dropna(inplace=True)\n",
        "print(df.info())"
      ],
      "metadata": {
        "colab": {
          "base_uri": "https://localhost:8080/"
        },
        "id": "fQ631X522x5F",
        "outputId": "aa3fefd8-1875-4b58-b0b2-8230bf27a101"
      },
      "execution_count": 9,
      "outputs": [
        {
          "output_type": "stream",
          "name": "stdout",
          "text": [
            "<class 'pandas.core.frame.DataFrame'>\n",
            "Int64Index: 5080 entries, 48 to 10833\n",
            "Data columns (total 4 columns):\n",
            " #   Column    Non-Null Count  Dtype \n",
            "---  ------    --------------  ----- \n",
            " 0   keyword   5080 non-null   object\n",
            " 1   location  5080 non-null   object\n",
            " 2   text      5080 non-null   object\n",
            " 3   target    5080 non-null   int64 \n",
            "dtypes: int64(1), object(3)\n",
            "memory usage: 198.4+ KB\n",
            "None\n"
          ]
        }
      ]
    },
    {
      "cell_type": "code",
      "source": [
        "df.isna().sum()"
      ],
      "metadata": {
        "colab": {
          "base_uri": "https://localhost:8080/"
        },
        "id": "_wWtH9Ra3B6e",
        "outputId": "73892c0f-8d37-4582-a397-3d5ce069494c"
      },
      "execution_count": 10,
      "outputs": [
        {
          "output_type": "execute_result",
          "data": {
            "text/plain": [
              "keyword     0\n",
              "location    0\n",
              "text        0\n",
              "target      0\n",
              "dtype: int64"
            ]
          },
          "metadata": {},
          "execution_count": 10
        }
      ]
    },
    {
      "cell_type": "code",
      "source": [
        "# check for duplicates\n",
        "df.duplicated().sum()"
      ],
      "metadata": {
        "colab": {
          "base_uri": "https://localhost:8080/"
        },
        "id": "PC6RVXaPP45W",
        "outputId": "b33047b4-4d57-4a33-dadf-db9e0a9c3c1b"
      },
      "execution_count": 11,
      "outputs": [
        {
          "output_type": "execute_result",
          "data": {
            "text/plain": [
              "19"
            ]
          },
          "metadata": {},
          "execution_count": 11
        }
      ]
    },
    {
      "cell_type": "code",
      "source": [
        "df = df.drop_duplicates()"
      ],
      "metadata": {
        "id": "rnyl1ZMYz11A"
      },
      "execution_count": 12,
      "outputs": []
    },
    {
      "cell_type": "code",
      "source": [
        "#check for duplicates\n",
        "df.duplicated().sum()"
      ],
      "metadata": {
        "colab": {
          "base_uri": "https://localhost:8080/"
        },
        "id": "elhlb--vz67x",
        "outputId": "f5c315ed-19c0-402c-e213-dd884bf1b055"
      },
      "execution_count": 13,
      "outputs": [
        {
          "output_type": "execute_result",
          "data": {
            "text/plain": [
              "0"
            ]
          },
          "metadata": {},
          "execution_count": 13
        }
      ]
    },
    {
      "cell_type": "code",
      "source": [
        "df['target'].value_counts()"
      ],
      "metadata": {
        "colab": {
          "base_uri": "https://localhost:8080/"
        },
        "id": "SMixm7bgZP4A",
        "outputId": "b56dca43-004b-4194-ad90-cdfd4e89b06b"
      },
      "execution_count": 14,
      "outputs": [
        {
          "output_type": "execute_result",
          "data": {
            "text/plain": [
              "0    2877\n",
              "1    2184\n",
              "Name: target, dtype: int64"
            ]
          },
          "metadata": {},
          "execution_count": 14
        }
      ]
    },
    {
      "cell_type": "code",
      "source": [
        "# Save X data\n",
        "X = df.drop('target', axis=1)  # Features\n",
        "# Encode our target\n",
        "y = df['target']"
      ],
      "metadata": {
        "id": "tVOLYxIVGmCH"
      },
      "execution_count": 15,
      "outputs": []
    },
    {
      "cell_type": "code",
      "source": [
        "df.head()"
      ],
      "metadata": {
        "colab": {
          "base_uri": "https://localhost:8080/",
          "height": 237
        },
        "id": "_B3DcKKdH6wf",
        "outputId": "cad05492-5c0b-4534-8c53-016019e641db"
      },
      "execution_count": 16,
      "outputs": [
        {
          "output_type": "execute_result",
          "data": {
            "text/plain": [
              "   keyword                       location  \\\n",
              "id                                          \n",
              "48  ablaze                     Birmingham   \n",
              "49  ablaze  Est. September 2012 - Bristol   \n",
              "50  ablaze                         AFRICA   \n",
              "52  ablaze               Philadelphia, PA   \n",
              "53  ablaze                     London, UK   \n",
              "\n",
              "                                                 text  target  \n",
              "id                                                             \n",
              "48  @bbcmtd Wholesale Markets ablaze http://t.co/l...       1  \n",
              "49  We always try to bring the heavy. #metal #RT h...       0  \n",
              "50  #AFRICANBAZE: Breaking news:Nigeria flag set a...       1  \n",
              "52                 Crying out for more! Set me ablaze       0  \n",
              "53  On plus side LOOK AT THE SKY LAST NIGHT IT WAS...       0  "
            ],
            "text/html": [
              "\n",
              "  <div id=\"df-914d578f-1e2b-401f-9e4a-98d979545433\" class=\"colab-df-container\">\n",
              "    <div>\n",
              "<style scoped>\n",
              "    .dataframe tbody tr th:only-of-type {\n",
              "        vertical-align: middle;\n",
              "    }\n",
              "\n",
              "    .dataframe tbody tr th {\n",
              "        vertical-align: top;\n",
              "    }\n",
              "\n",
              "    .dataframe thead th {\n",
              "        text-align: right;\n",
              "    }\n",
              "</style>\n",
              "<table border=\"1\" class=\"dataframe\">\n",
              "  <thead>\n",
              "    <tr style=\"text-align: right;\">\n",
              "      <th></th>\n",
              "      <th>keyword</th>\n",
              "      <th>location</th>\n",
              "      <th>text</th>\n",
              "      <th>target</th>\n",
              "    </tr>\n",
              "    <tr>\n",
              "      <th>id</th>\n",
              "      <th></th>\n",
              "      <th></th>\n",
              "      <th></th>\n",
              "      <th></th>\n",
              "    </tr>\n",
              "  </thead>\n",
              "  <tbody>\n",
              "    <tr>\n",
              "      <th>48</th>\n",
              "      <td>ablaze</td>\n",
              "      <td>Birmingham</td>\n",
              "      <td>@bbcmtd Wholesale Markets ablaze http://t.co/l...</td>\n",
              "      <td>1</td>\n",
              "    </tr>\n",
              "    <tr>\n",
              "      <th>49</th>\n",
              "      <td>ablaze</td>\n",
              "      <td>Est. September 2012 - Bristol</td>\n",
              "      <td>We always try to bring the heavy. #metal #RT h...</td>\n",
              "      <td>0</td>\n",
              "    </tr>\n",
              "    <tr>\n",
              "      <th>50</th>\n",
              "      <td>ablaze</td>\n",
              "      <td>AFRICA</td>\n",
              "      <td>#AFRICANBAZE: Breaking news:Nigeria flag set a...</td>\n",
              "      <td>1</td>\n",
              "    </tr>\n",
              "    <tr>\n",
              "      <th>52</th>\n",
              "      <td>ablaze</td>\n",
              "      <td>Philadelphia, PA</td>\n",
              "      <td>Crying out for more! Set me ablaze</td>\n",
              "      <td>0</td>\n",
              "    </tr>\n",
              "    <tr>\n",
              "      <th>53</th>\n",
              "      <td>ablaze</td>\n",
              "      <td>London, UK</td>\n",
              "      <td>On plus side LOOK AT THE SKY LAST NIGHT IT WAS...</td>\n",
              "      <td>0</td>\n",
              "    </tr>\n",
              "  </tbody>\n",
              "</table>\n",
              "</div>\n",
              "    <div class=\"colab-df-buttons\">\n",
              "\n",
              "  <div class=\"colab-df-container\">\n",
              "    <button class=\"colab-df-convert\" onclick=\"convertToInteractive('df-914d578f-1e2b-401f-9e4a-98d979545433')\"\n",
              "            title=\"Convert this dataframe to an interactive table.\"\n",
              "            style=\"display:none;\">\n",
              "\n",
              "  <svg xmlns=\"http://www.w3.org/2000/svg\" height=\"24px\" viewBox=\"0 -960 960 960\">\n",
              "    <path d=\"M120-120v-720h720v720H120Zm60-500h600v-160H180v160Zm220 220h160v-160H400v160Zm0 220h160v-160H400v160ZM180-400h160v-160H180v160Zm440 0h160v-160H620v160ZM180-180h160v-160H180v160Zm440 0h160v-160H620v160Z\"/>\n",
              "  </svg>\n",
              "    </button>\n",
              "\n",
              "  <style>\n",
              "    .colab-df-container {\n",
              "      display:flex;\n",
              "      gap: 12px;\n",
              "    }\n",
              "\n",
              "    .colab-df-convert {\n",
              "      background-color: #E8F0FE;\n",
              "      border: none;\n",
              "      border-radius: 50%;\n",
              "      cursor: pointer;\n",
              "      display: none;\n",
              "      fill: #1967D2;\n",
              "      height: 32px;\n",
              "      padding: 0 0 0 0;\n",
              "      width: 32px;\n",
              "    }\n",
              "\n",
              "    .colab-df-convert:hover {\n",
              "      background-color: #E2EBFA;\n",
              "      box-shadow: 0px 1px 2px rgba(60, 64, 67, 0.3), 0px 1px 3px 1px rgba(60, 64, 67, 0.15);\n",
              "      fill: #174EA6;\n",
              "    }\n",
              "\n",
              "    .colab-df-buttons div {\n",
              "      margin-bottom: 4px;\n",
              "    }\n",
              "\n",
              "    [theme=dark] .colab-df-convert {\n",
              "      background-color: #3B4455;\n",
              "      fill: #D2E3FC;\n",
              "    }\n",
              "\n",
              "    [theme=dark] .colab-df-convert:hover {\n",
              "      background-color: #434B5C;\n",
              "      box-shadow: 0px 1px 3px 1px rgba(0, 0, 0, 0.15);\n",
              "      filter: drop-shadow(0px 1px 2px rgba(0, 0, 0, 0.3));\n",
              "      fill: #FFFFFF;\n",
              "    }\n",
              "  </style>\n",
              "\n",
              "    <script>\n",
              "      const buttonEl =\n",
              "        document.querySelector('#df-914d578f-1e2b-401f-9e4a-98d979545433 button.colab-df-convert');\n",
              "      buttonEl.style.display =\n",
              "        google.colab.kernel.accessAllowed ? 'block' : 'none';\n",
              "\n",
              "      async function convertToInteractive(key) {\n",
              "        const element = document.querySelector('#df-914d578f-1e2b-401f-9e4a-98d979545433');\n",
              "        const dataTable =\n",
              "          await google.colab.kernel.invokeFunction('convertToInteractive',\n",
              "                                                    [key], {});\n",
              "        if (!dataTable) return;\n",
              "\n",
              "        const docLinkHtml = 'Like what you see? Visit the ' +\n",
              "          '<a target=\"_blank\" href=https://colab.research.google.com/notebooks/data_table.ipynb>data table notebook</a>'\n",
              "          + ' to learn more about interactive tables.';\n",
              "        element.innerHTML = '';\n",
              "        dataTable['output_type'] = 'display_data';\n",
              "        await google.colab.output.renderOutput(dataTable, element);\n",
              "        const docLink = document.createElement('div');\n",
              "        docLink.innerHTML = docLinkHtml;\n",
              "        element.appendChild(docLink);\n",
              "      }\n",
              "    </script>\n",
              "  </div>\n",
              "\n",
              "\n",
              "<div id=\"df-8a39b142-ca58-459c-8df3-5217207b55a7\">\n",
              "  <button class=\"colab-df-quickchart\" onclick=\"quickchart('df-8a39b142-ca58-459c-8df3-5217207b55a7')\"\n",
              "            title=\"Suggest charts.\"\n",
              "            style=\"display:none;\">\n",
              "\n",
              "<svg xmlns=\"http://www.w3.org/2000/svg\" height=\"24px\"viewBox=\"0 0 24 24\"\n",
              "     width=\"24px\">\n",
              "    <g>\n",
              "        <path d=\"M19 3H5c-1.1 0-2 .9-2 2v14c0 1.1.9 2 2 2h14c1.1 0 2-.9 2-2V5c0-1.1-.9-2-2-2zM9 17H7v-7h2v7zm4 0h-2V7h2v10zm4 0h-2v-4h2v4z\"/>\n",
              "    </g>\n",
              "</svg>\n",
              "  </button>\n",
              "\n",
              "<style>\n",
              "  .colab-df-quickchart {\n",
              "      --bg-color: #E8F0FE;\n",
              "      --fill-color: #1967D2;\n",
              "      --hover-bg-color: #E2EBFA;\n",
              "      --hover-fill-color: #174EA6;\n",
              "      --disabled-fill-color: #AAA;\n",
              "      --disabled-bg-color: #DDD;\n",
              "  }\n",
              "\n",
              "  [theme=dark] .colab-df-quickchart {\n",
              "      --bg-color: #3B4455;\n",
              "      --fill-color: #D2E3FC;\n",
              "      --hover-bg-color: #434B5C;\n",
              "      --hover-fill-color: #FFFFFF;\n",
              "      --disabled-bg-color: #3B4455;\n",
              "      --disabled-fill-color: #666;\n",
              "  }\n",
              "\n",
              "  .colab-df-quickchart {\n",
              "    background-color: var(--bg-color);\n",
              "    border: none;\n",
              "    border-radius: 50%;\n",
              "    cursor: pointer;\n",
              "    display: none;\n",
              "    fill: var(--fill-color);\n",
              "    height: 32px;\n",
              "    padding: 0;\n",
              "    width: 32px;\n",
              "  }\n",
              "\n",
              "  .colab-df-quickchart:hover {\n",
              "    background-color: var(--hover-bg-color);\n",
              "    box-shadow: 0 1px 2px rgba(60, 64, 67, 0.3), 0 1px 3px 1px rgba(60, 64, 67, 0.15);\n",
              "    fill: var(--button-hover-fill-color);\n",
              "  }\n",
              "\n",
              "  .colab-df-quickchart-complete:disabled,\n",
              "  .colab-df-quickchart-complete:disabled:hover {\n",
              "    background-color: var(--disabled-bg-color);\n",
              "    fill: var(--disabled-fill-color);\n",
              "    box-shadow: none;\n",
              "  }\n",
              "\n",
              "  .colab-df-spinner {\n",
              "    border: 2px solid var(--fill-color);\n",
              "    border-color: transparent;\n",
              "    border-bottom-color: var(--fill-color);\n",
              "    animation:\n",
              "      spin 1s steps(1) infinite;\n",
              "  }\n",
              "\n",
              "  @keyframes spin {\n",
              "    0% {\n",
              "      border-color: transparent;\n",
              "      border-bottom-color: var(--fill-color);\n",
              "      border-left-color: var(--fill-color);\n",
              "    }\n",
              "    20% {\n",
              "      border-color: transparent;\n",
              "      border-left-color: var(--fill-color);\n",
              "      border-top-color: var(--fill-color);\n",
              "    }\n",
              "    30% {\n",
              "      border-color: transparent;\n",
              "      border-left-color: var(--fill-color);\n",
              "      border-top-color: var(--fill-color);\n",
              "      border-right-color: var(--fill-color);\n",
              "    }\n",
              "    40% {\n",
              "      border-color: transparent;\n",
              "      border-right-color: var(--fill-color);\n",
              "      border-top-color: var(--fill-color);\n",
              "    }\n",
              "    60% {\n",
              "      border-color: transparent;\n",
              "      border-right-color: var(--fill-color);\n",
              "    }\n",
              "    80% {\n",
              "      border-color: transparent;\n",
              "      border-right-color: var(--fill-color);\n",
              "      border-bottom-color: var(--fill-color);\n",
              "    }\n",
              "    90% {\n",
              "      border-color: transparent;\n",
              "      border-bottom-color: var(--fill-color);\n",
              "    }\n",
              "  }\n",
              "</style>\n",
              "\n",
              "  <script>\n",
              "    async function quickchart(key) {\n",
              "      const quickchartButtonEl =\n",
              "        document.querySelector('#' + key + ' button');\n",
              "      quickchartButtonEl.disabled = true;  // To prevent multiple clicks.\n",
              "      quickchartButtonEl.classList.add('colab-df-spinner');\n",
              "      try {\n",
              "        const charts = await google.colab.kernel.invokeFunction(\n",
              "            'suggestCharts', [key], {});\n",
              "      } catch (error) {\n",
              "        console.error('Error during call to suggestCharts:', error);\n",
              "      }\n",
              "      quickchartButtonEl.classList.remove('colab-df-spinner');\n",
              "      quickchartButtonEl.classList.add('colab-df-quickchart-complete');\n",
              "    }\n",
              "    (() => {\n",
              "      let quickchartButtonEl =\n",
              "        document.querySelector('#df-8a39b142-ca58-459c-8df3-5217207b55a7 button');\n",
              "      quickchartButtonEl.style.display =\n",
              "        google.colab.kernel.accessAllowed ? 'block' : 'none';\n",
              "    })();\n",
              "  </script>\n",
              "</div>\n",
              "    </div>\n",
              "  </div>\n"
            ]
          },
          "metadata": {},
          "execution_count": 16
        }
      ]
    },
    {
      "cell_type": "markdown",
      "source": [
        "## Train/Test Split"
      ],
      "metadata": {
        "id": "6toCyqyLHMqf"
      }
    },
    {
      "cell_type": "code",
      "source": [
        "# Train test split\n",
        "X_train, X_test, y_train, y_test = train_test_split(X, y, random_state=3)"
      ],
      "metadata": {
        "id": "HXbYAdczHQWu"
      },
      "execution_count": 17,
      "outputs": []
    },
    {
      "cell_type": "code",
      "source": [
        "# Check class balance\n",
        "y_train.value_counts(normalize=True)"
      ],
      "metadata": {
        "colab": {
          "base_uri": "https://localhost:8080/"
        },
        "id": "qZ5UJbkfNAih",
        "outputId": "bb0f3e7a-ca4c-49d6-b65d-940cbcc4121a"
      },
      "execution_count": 16,
      "outputs": [
        {
          "output_type": "execute_result",
          "data": {
            "text/plain": [
              "0    0.566798\n",
              "1    0.433202\n",
              "Name: target, dtype: float64"
            ]
          },
          "metadata": {},
          "execution_count": 16
        }
      ]
    },
    {
      "cell_type": "markdown",
      "source": [
        "### Transformer"
      ],
      "metadata": {
        "id": "QoObv8fE8N-b"
      }
    },
    {
      "cell_type": "code",
      "source": [
        "# Categorical Preprocessing Pipeline\n",
        "# Save list of column names\n",
        "ohe_cols = X_train.select_dtypes('object').columns\n",
        "print(\"OneHotEncoder Columns:\", ohe_cols)\n",
        "# Instantiate the individual preprocessors\n",
        "impute_na = SimpleImputer(strategy='constant', fill_value = \"Missing\")\n",
        "ohe_encoder = OneHotEncoder(sparse_output=False, handle_unknown='ignore')\n",
        "# Make pipeline with imputer and encoder\n",
        "ohe_pipe = make_pipeline(impute_na, ohe_encoder)\n",
        "# Making a ohe_tuple for ColumnTransformer\n",
        "ohe_tuple = ('categorical', ohe_pipe, ohe_cols)\n",
        "# Numerical Preprocessing Pipeline\n",
        "# Save list of column names\n",
        "num_cols = X_train.select_dtypes(\"number\").columns\n",
        "print(\"Numeric Columns:\", num_cols)\n",
        "# instantiate preprocessors\n",
        "impute_median = SimpleImputer(strategy='median')\n",
        "scaler = StandardScaler()\n",
        "# Make a numeric preprocessing pipeline\n",
        "num_pipe = make_pipeline(impute_median, scaler)\n",
        "# Making a numeric tuple for ColumnTransformer\n",
        "num_tuple = ('numeric', num_pipe, num_cols)\n",
        "# Create the Column Transformer\n",
        "preprocessor = ColumnTransformer([num_tuple, ohe_tuple],\n",
        "                                 verbose_feature_names_out=False)"
      ],
      "metadata": {
        "colab": {
          "base_uri": "https://localhost:8080/"
        },
        "id": "xvu1ZQAx8HhI",
        "outputId": "41b9d295-624b-47d9-c54b-9f68403cee32"
      },
      "execution_count": 18,
      "outputs": [
        {
          "output_type": "stream",
          "name": "stdout",
          "text": [
            "OneHotEncoder Columns: Index(['keyword', 'location', 'text'], dtype='object')\n",
            "Numeric Columns: Index([], dtype='object')\n"
          ]
        }
      ]
    },
    {
      "cell_type": "code",
      "source": [
        "# process the data\n",
        "X_train_processed = preprocessor.fit_transform(X_train)\n",
        "X_test_processed = preprocessor.transform(X_test)"
      ],
      "metadata": {
        "id": "noslrogxQJOa"
      },
      "execution_count": 19,
      "outputs": []
    },
    {
      "cell_type": "markdown",
      "source": [
        "# Model 1"
      ],
      "metadata": {
        "id": "NQONlQoFQVi3"
      }
    },
    {
      "cell_type": "code",
      "source": [
        "# create and compile the model\n",
        "model = keras.Sequential()\n",
        "model.add(Dense(10, input_dim=X_train_processed.shape[1], activation='relu'))\n",
        "model.add(Dense(5, activation='relu'))\n",
        "model.add(Dense(1, activation='sigmoid'))\n",
        "\n",
        "model.compile(optimizer='adam', loss='binary_crossentropy', metrics=['accuracy'])"
      ],
      "metadata": {
        "id": "0g-WRlwJQdaj"
      },
      "execution_count": 22,
      "outputs": []
    },
    {
      "cell_type": "code",
      "source": [
        "# Train the model and save the history\n",
        "history = model.fit(X_train_processed, y_train, validation_split=0.2, epochs=10)"
      ],
      "metadata": {
        "colab": {
          "base_uri": "https://localhost:8080/"
        },
        "id": "cx7UXIwSRQSU",
        "outputId": "e1ee10b8-123c-4066-a43a-f6e7cedce8e4"
      },
      "execution_count": 23,
      "outputs": [
        {
          "output_type": "stream",
          "name": "stdout",
          "text": [
            "Epoch 1/10\n",
            "95/95 [==============================] - 4s 12ms/step - loss: 0.6811 - accuracy: 0.5665 - val_loss: 0.6732 - val_accuracy: 0.5402\n",
            "Epoch 2/10\n",
            "95/95 [==============================] - 1s 11ms/step - loss: 0.6064 - accuracy: 0.6825 - val_loss: 0.6219 - val_accuracy: 0.6350\n",
            "Epoch 3/10\n",
            "95/95 [==============================] - 0s 5ms/step - loss: 0.4504 - accuracy: 0.8653 - val_loss: 0.5727 - val_accuracy: 0.7207\n",
            "Epoch 4/10\n",
            "95/95 [==============================] - 0s 5ms/step - loss: 0.2780 - accuracy: 0.9292 - val_loss: 0.5662 - val_accuracy: 0.7246\n",
            "Epoch 5/10\n",
            "95/95 [==============================] - 0s 4ms/step - loss: 0.1518 - accuracy: 0.9776 - val_loss: 0.5851 - val_accuracy: 0.7154\n",
            "Epoch 6/10\n",
            "95/95 [==============================] - 0s 5ms/step - loss: 0.0825 - accuracy: 0.9904 - val_loss: 0.5997 - val_accuracy: 0.7154\n",
            "Epoch 7/10\n",
            "95/95 [==============================] - 0s 5ms/step - loss: 0.0473 - accuracy: 0.9954 - val_loss: 0.6180 - val_accuracy: 0.7141\n",
            "Epoch 8/10\n",
            "95/95 [==============================] - 0s 5ms/step - loss: 0.0298 - accuracy: 0.9974 - val_loss: 0.6365 - val_accuracy: 0.7088\n",
            "Epoch 9/10\n",
            "95/95 [==============================] - 1s 6ms/step - loss: 0.0198 - accuracy: 0.9987 - val_loss: 0.6540 - val_accuracy: 0.7049\n",
            "Epoch 10/10\n",
            "95/95 [==============================] - 1s 7ms/step - loss: 0.0140 - accuracy: 0.9990 - val_loss: 0.6653 - val_accuracy: 0.7009\n"
          ]
        }
      ]
    },
    {
      "cell_type": "code",
      "source": [
        "# Call the custom function\n",
        "plot_history(history);"
      ],
      "metadata": {
        "colab": {
          "base_uri": "https://localhost:8080/",
          "height": 1000
        },
        "id": "Mg_Cu3f3RVpN",
        "outputId": "2c16567b-2e00-41ff-b1a0-8b343d7c258a"
      },
      "execution_count": 24,
      "outputs": [
        {
          "output_type": "display_data",
          "data": {
            "text/plain": [
              "<Figure size 600x1200 with 2 Axes>"
            ],
            "image/png": "[encoded data removed]"
          },
          "metadata": {}
        }
      ]
    },
    {
      "cell_type": "code",
      "source": [
        "# Evaluate neural network with builtin evaluation\n",
        "result = model.evaluate(X_test_processed, y_test,return_dict=True)\n",
        "result"
      ],
      "metadata": {
        "colab": {
          "base_uri": "https://localhost:8080/"
        },
        "id": "ZvKyWx7iRazS",
        "outputId": "eb532573-953f-4a34-a240-e338cda64ed8"
      },
      "execution_count": 25,
      "outputs": [
        {
          "output_type": "stream",
          "name": "stdout",
          "text": [
            "40/40 [==============================] - 0s 2ms/step - loss: 0.7398 - accuracy: 0.6580\n"
          ]
        },
        {
          "output_type": "execute_result",
          "data": {
            "text/plain": [
              "{'loss': 0.7398332953453064, 'accuracy': 0.6579778790473938}"
            ]
          },
          "metadata": {},
          "execution_count": 25
        }
      ]
    },
    {
      "cell_type": "code",
      "source": [
        "# evaluate the model with sklearn metrics\n",
        "test_preds = model.predict(X_test_processed).round()\n",
        "print(classification_report(y_test, test_preds))\n",
        "conf_mat = confusion_matrix(y_test, test_preds)\n",
        "sns.heatmap(conf_mat, annot=True, fmt ='g');"
      ],
      "metadata": {
        "colab": {
          "base_uri": "https://localhost:8080/",
          "height": 604
        },
        "id": "mySI34poR51h",
        "outputId": "1b8df4de-5ce8-4b87-8f51-d690f9b3f145"
      },
      "execution_count": 26,
      "outputs": [
        {
          "output_type": "stream",
          "name": "stdout",
          "text": [
            "40/40 [==============================] - 0s 3ms/step\n",
            "              precision    recall  f1-score   support\n",
            "\n",
            "           0       0.70      0.69      0.70       726\n",
            "           1       0.60      0.61      0.60       540\n",
            "\n",
            "    accuracy                           0.66      1266\n",
            "   macro avg       0.65      0.65      0.65      1266\n",
            "weighted avg       0.66      0.66      0.66      1266\n",
            "\n"
          ]
        },
        {
          "output_type": "display_data",
          "data": {
            "text/plain": [
              "<Figure size 640x480 with 2 Axes>"
            ],
            "image/png": "[encoded data removed]"
          },
          "metadata": {}
        }
      ]
    },
    {
      "cell_type": "markdown",
      "source": [
        "1. Precision: Precision measures the proportion of true positive predictions (correctly predicted positives) out of all positive predictions. For class 0, the precision is 0.71, and for class 1, it is 0.58.\n",
        "\n",
        "2. Recall: Recall measures the proportion of true positive predictions out of all actual positives. For class 0, the recall is 0.67, and for class 1, it is 0.63.\n",
        "\n",
        "3. F1-Score: The F1-score is the harmonic mean of precision and recall. It provides a balance between precision and recall. For class 0, the F1-score is 0.69, and for class 1, it is 0.61.\n",
        "\n",
        "4. Accuracy: The overall accuracy of your model on the test data is 0.65, which means it correctly predicts the class for 65% of the samples.\n"
      ],
      "metadata": {
        "id": "D3VAy5Yo80xr"
      }
    },
    {
      "cell_type": "markdown",
      "source": [
        "# Model 2: More Neurons"
      ],
      "metadata": {
        "id": "Ftqo2nl-UVdW"
      }
    },
    {
      "cell_type": "code",
      "source": [
        "# create model\n",
        "model2 = keras.Sequential()\n",
        "model2.add(Dense(20, input_dim=X_train_processed.shape[1],\n",
        "          activation = 'relu'))\n",
        "model2.add(Dense(5, activation = 'relu'))\n",
        "model2.add(Dense(1, activation = 'sigmoid'))\n",
        "\n",
        "model2.compile(optimizer = 'adam', loss = 'bce', metrics = 'accuracy')"
      ],
      "metadata": {
        "id": "NQWm2vPhUbi3"
      },
      "execution_count": 27,
      "outputs": []
    },
    {
      "cell_type": "code",
      "source": [
        "# train the model and save the history\n",
        "history = model2.fit(X_train_processed, y_train,\n",
        "          validation_split=(.2),\n",
        "          epochs = 10)"
      ],
      "metadata": {
        "colab": {
          "base_uri": "https://localhost:8080/"
        },
        "id": "SK9CujwxUgQM",
        "outputId": "956bc938-0d1e-46f2-c208-b06f5cc30803"
      },
      "execution_count": 28,
      "outputs": [
        {
          "output_type": "stream",
          "name": "stdout",
          "text": [
            "Epoch 1/10\n",
            "95/95 [==============================] - 1s 7ms/step - loss: 0.6762 - accuracy: 0.5741 - val_loss: 0.6696 - val_accuracy: 0.5402\n",
            "Epoch 2/10\n",
            "95/95 [==============================] - 0s 5ms/step - loss: 0.5906 - accuracy: 0.6215 - val_loss: 0.6279 - val_accuracy: 0.6021\n",
            "Epoch 3/10\n",
            "95/95 [==============================] - 1s 6ms/step - loss: 0.4484 - accuracy: 0.8554 - val_loss: 0.6049 - val_accuracy: 0.6838\n",
            "Epoch 4/10\n",
            "95/95 [==============================] - 1s 8ms/step - loss: 0.2851 - accuracy: 0.9503 - val_loss: 0.5898 - val_accuracy: 0.7088\n",
            "Epoch 5/10\n",
            "95/95 [==============================] - 1s 7ms/step - loss: 0.1469 - accuracy: 0.9878 - val_loss: 0.6021 - val_accuracy: 0.7101\n",
            "Epoch 6/10\n",
            "95/95 [==============================] - 1s 8ms/step - loss: 0.0703 - accuracy: 0.9970 - val_loss: 0.6218 - val_accuracy: 0.7101\n",
            "Epoch 7/10\n",
            "95/95 [==============================] - 1s 8ms/step - loss: 0.0361 - accuracy: 0.9990 - val_loss: 0.6488 - val_accuracy: 0.6983\n",
            "Epoch 8/10\n",
            "95/95 [==============================] - 1s 8ms/step - loss: 0.0217 - accuracy: 0.9990 - val_loss: 0.6669 - val_accuracy: 0.7036\n",
            "Epoch 9/10\n",
            "95/95 [==============================] - 1s 7ms/step - loss: 0.0144 - accuracy: 0.9993 - val_loss: 0.6858 - val_accuracy: 0.7009\n",
            "Epoch 10/10\n",
            "95/95 [==============================] - 0s 5ms/step - loss: 0.0100 - accuracy: 0.9997 - val_loss: 0.7023 - val_accuracy: 0.7009\n"
          ]
        }
      ]
    },
    {
      "cell_type": "code",
      "source": [
        "plot_history(history);"
      ],
      "metadata": {
        "colab": {
          "base_uri": "https://localhost:8080/",
          "height": 1000
        },
        "id": "WapDJeORUnt6",
        "outputId": "b03d606f-d57b-42a7-b5f4-ce50fca43049"
      },
      "execution_count": 29,
      "outputs": [
        {
          "output_type": "display_data",
          "data": {
            "text/plain": [
              "<Figure size 600x1200 with 2 Axes>"
            ],
            "image/png": "[encoded data removed]"
          },
          "metadata": {}
        }
      ]
    },
    {
      "cell_type": "code",
      "source": [
        "# Evaluate neural network with builtin evaluation\n",
        "result = model2.evaluate(X_test_processed, y_test,return_dict=True)\n",
        "result"
      ],
      "metadata": {
        "id": "w_9u87FnUp6r",
        "colab": {
          "base_uri": "https://localhost:8080/"
        },
        "outputId": "ab46f771-e445-4db5-ec8b-c94375bf30fb"
      },
      "execution_count": 30,
      "outputs": [
        {
          "output_type": "stream",
          "name": "stdout",
          "text": [
            "40/40 [==============================] - 0s 2ms/step - loss: 0.7848 - accuracy: 0.6548\n"
          ]
        },
        {
          "output_type": "execute_result",
          "data": {
            "text/plain": [
              "{'loss': 0.7847837209701538, 'accuracy': 0.6548182964324951}"
            ]
          },
          "metadata": {},
          "execution_count": 30
        }
      ]
    },
    {
      "cell_type": "code",
      "source": [
        "# evaluate the model with sklearn metrics\n",
        "test_preds = model2.predict(X_test_processed).round()\n",
        "print(classification_report(y_test, test_preds))\n",
        "conf_mat = confusion_matrix(y_test, test_preds)\n",
        "sns.heatmap(conf_mat, annot=True, fmt = 'g');"
      ],
      "metadata": {
        "colab": {
          "base_uri": "https://localhost:8080/",
          "height": 604
        },
        "id": "8OnGi49yU0EO",
        "outputId": "a8f0be2e-e9ae-43df-fd52-82815453fab5"
      },
      "execution_count": 31,
      "outputs": [
        {
          "output_type": "stream",
          "name": "stdout",
          "text": [
            "40/40 [==============================] - 0s 2ms/step\n",
            "              precision    recall  f1-score   support\n",
            "\n",
            "           0       0.70      0.70      0.70       726\n",
            "           1       0.60      0.59      0.59       540\n",
            "\n",
            "    accuracy                           0.65      1266\n",
            "   macro avg       0.65      0.65      0.65      1266\n",
            "weighted avg       0.65      0.65      0.65      1266\n",
            "\n"
          ]
        },
        {
          "output_type": "display_data",
          "data": {
            "text/plain": [
              "<Figure size 640x480 with 2 Axes>"
            ],
            "image/png": "[encoded data removed]"
          },
          "metadata": {}
        }
      ]
    },
    {
      "cell_type": "markdown",
      "source": [
        "1. Precision: For class 0, the precision is 0.71, and for class 1, it is 0.59.\n",
        "\n",
        "2. Recall: For class 0, the recall is 0.67, and for class 1, it is 0.63.\n",
        "\n",
        "3. F1-Score: For class 0, the F1-score is 0.69, and for class 1, it is 0.61.\n",
        "\n",
        "4. Accuracy: The overall accuracy of model2 on the test data is 0.65, which means it correctly predicts the class for 65% of the samples.\n",
        "\n",
        "Comparing these metrics to the previous model (model1), it seems that model2 has similar performance in terms of precision, recall, and accuracy."
      ],
      "metadata": {
        "id": "L-_E87KF9Siz"
      }
    },
    {
      "cell_type": "markdown",
      "source": [
        "# Model 3: More layers"
      ],
      "metadata": {
        "id": "3fyNJv0MdAM0"
      }
    },
    {
      "cell_type": "code",
      "source": [
        "# create model\n",
        "model3 = keras.Sequential()\n",
        "model3.add(Dense(20, input_dim=X_train_processed.shape[1],\n",
        "        activation = 'relu'))\n",
        "model3.add(Dense(5, activation = 'relu'))\n",
        "model3.add(Dense(5, activation = 'relu'))\n",
        "model3.add(Dense(1, activation = 'sigmoid'))\n",
        "\n",
        "model3.compile(optimizer = 'adam', loss = 'bce', metrics = 'accuracy')"
      ],
      "metadata": {
        "id": "PEfKYlwCdFbo"
      },
      "execution_count": 32,
      "outputs": []
    },
    {
      "cell_type": "code",
      "source": [
        "# train the model and save the history\n",
        "history = model3.fit(X_train_processed, y_train,\n",
        "          validation_split = .2,\n",
        "          epochs = 10)"
      ],
      "metadata": {
        "colab": {
          "base_uri": "https://localhost:8080/"
        },
        "id": "zPlBWiPPdHtY",
        "outputId": "a8e99915-f642-46d3-b9f5-274140e4c9fd"
      },
      "execution_count": 33,
      "outputs": [
        {
          "output_type": "stream",
          "name": "stdout",
          "text": [
            "Epoch 1/10\n",
            "95/95 [==============================] - 2s 7ms/step - loss: 0.6864 - accuracy: 0.5636 - val_loss: 0.6836 - val_accuracy: 0.5402\n",
            "Epoch 2/10\n",
            "95/95 [==============================] - 0s 5ms/step - loss: 0.6348 - accuracy: 0.6070 - val_loss: 0.6232 - val_accuracy: 0.6601\n",
            "Epoch 3/10\n",
            "95/95 [==============================] - 0s 5ms/step - loss: 0.4397 - accuracy: 0.8574 - val_loss: 0.5581 - val_accuracy: 0.7260\n",
            "Epoch 4/10\n",
            "95/95 [==============================] - 0s 5ms/step - loss: 0.1988 - accuracy: 0.9513 - val_loss: 0.5957 - val_accuracy: 0.6983\n",
            "Epoch 5/10\n",
            "95/95 [==============================] - 0s 5ms/step - loss: 0.0690 - accuracy: 0.9895 - val_loss: 0.6415 - val_accuracy: 0.6996\n",
            "Epoch 6/10\n",
            "95/95 [==============================] - 0s 5ms/step - loss: 0.0287 - accuracy: 0.9970 - val_loss: 0.6824 - val_accuracy: 0.6957\n",
            "Epoch 7/10\n",
            "95/95 [==============================] - 1s 5ms/step - loss: 0.0141 - accuracy: 0.9984 - val_loss: 0.7123 - val_accuracy: 0.6864\n",
            "Epoch 8/10\n",
            "95/95 [==============================] - 0s 5ms/step - loss: 0.0083 - accuracy: 0.9993 - val_loss: 0.7380 - val_accuracy: 0.6864\n",
            "Epoch 9/10\n",
            "95/95 [==============================] - 0s 5ms/step - loss: 0.0057 - accuracy: 0.9997 - val_loss: 0.7607 - val_accuracy: 0.6864\n",
            "Epoch 10/10\n",
            "95/95 [==============================] - 0s 5ms/step - loss: 0.0043 - accuracy: 0.9997 - val_loss: 0.7810 - val_accuracy: 0.6851\n"
          ]
        }
      ]
    },
    {
      "cell_type": "code",
      "source": [
        "# Obtain history\n",
        "plot_history(history);"
      ],
      "metadata": {
        "colab": {
          "base_uri": "https://localhost:8080/",
          "height": 1000
        },
        "id": "ElN-cRd_dTdO",
        "outputId": "f87f6ea2-e706-40b0-82cf-e0793f5d4245"
      },
      "execution_count": 34,
      "outputs": [
        {
          "output_type": "display_data",
          "data": {
            "text/plain": [
              "<Figure size 600x1200 with 2 Axes>"
            ],
            "image/png": "[encoded data removed]"
          },
          "metadata": {}
        }
      ]
    },
    {
      "cell_type": "code",
      "source": [
        "# Evaluate neural network with builtin evaluation\n",
        "result = model3.evaluate(X_test_processed, y_test,return_dict=True)\n",
        "result"
      ],
      "metadata": {
        "colab": {
          "base_uri": "https://localhost:8080/"
        },
        "id": "rezP40eZdYWo",
        "outputId": "beb23953-8102-434e-9eda-c9ea9efefb66"
      },
      "execution_count": 35,
      "outputs": [
        {
          "output_type": "stream",
          "name": "stdout",
          "text": [
            "40/40 [==============================] - 0s 3ms/step - loss: 0.8893 - accuracy: 0.6414\n"
          ]
        },
        {
          "output_type": "execute_result",
          "data": {
            "text/plain": [
              "{'loss': 0.8893279433250427, 'accuracy': 0.6413902044296265}"
            ]
          },
          "metadata": {},
          "execution_count": 35
        }
      ]
    },
    {
      "cell_type": "code",
      "source": [
        "# evaluate the model\n",
        "test_preds = model3.predict(X_test_processed).round()\n",
        "print(classification_report(y_test, test_preds))\n",
        "conf_mat = confusion_matrix(y_test, test_preds)\n",
        "sns.heatmap(conf_mat, annot=True, fmt ='g');"
      ],
      "metadata": {
        "colab": {
          "base_uri": "https://localhost:8080/",
          "height": 604
        },
        "id": "8S7bpO13dejG",
        "outputId": "0b4e9179-c3e9-4087-b98a-ed136964cdce"
      },
      "execution_count": 36,
      "outputs": [
        {
          "output_type": "stream",
          "name": "stdout",
          "text": [
            "40/40 [==============================] - 0s 2ms/step\n",
            "              precision    recall  f1-score   support\n",
            "\n",
            "           0       0.70      0.65      0.67       726\n",
            "           1       0.57      0.63      0.60       540\n",
            "\n",
            "    accuracy                           0.64      1266\n",
            "   macro avg       0.64      0.64      0.64      1266\n",
            "weighted avg       0.65      0.64      0.64      1266\n",
            "\n"
          ]
        },
        {
          "output_type": "display_data",
          "data": {
            "text/plain": [
              "<Figure size 640x480 with 2 Axes>"
            ],
            "image/png": "[encoded data removed]"
          },
          "metadata": {}
        }
      ]
    },
    {
      "cell_type": "markdown",
      "source": [
        "1. Precision: For class 0, the precision is 0.74, and for class 1, it is 0.56.\n",
        "\n",
        "2. Recall: For class 0, the recall is 0.58, and for class 1, it is 0.73.\n",
        "\n",
        "3. F1-Score: For class 0, the F1-score is 0.65, and for class 1, it is 0.63.\n",
        "\n",
        "4. Accuracy: The overall accuracy of model3 on the test data is 0.64, which means it correctly predicts the class for 64% of the samples.\n",
        "\n",
        "Comparing these metrics to the previous models (model1 and model2), it appears that model3 has a different trade-off between precision and recall. It has higher recall for class 1 but lower precision compared to the other models."
      ],
      "metadata": {
        "id": "2Mne2SJg9hZJ"
      }
    },
    {
      "cell_type": "markdown",
      "source": [
        "### choose your model"
      ],
      "metadata": {
        "id": "-u-cffz695w9"
      }
    },
    {
      "cell_type": "markdown",
      "source": [
        "1. Model 1:\n",
        "\n",
        "- Precision for class 0: 0.71\n",
        "- Recall for class 0: 0.67\n",
        "- Precision for class 1: 0.58\n",
        "- Recall for class 1: 0.63\n",
        "- Accuracy: 0.65\n",
        "\n",
        "2. Model 2:\n",
        "\n",
        "- Precision for class 0: 0.71\n",
        "- Recall for class 0: 0.67\n",
        "- Precision for class 1: 0.59\n",
        "- Recall for class 1: 0.63\n",
        "- Accuracy: 0.65\n",
        "\n",
        "3. Model 3:\n",
        "\n",
        "- Precision for class 0: 0.74\n",
        "- Recall for class 0: 0.58\n",
        "- Precision for class 1: 0.56\n",
        "- Recall for class 1: 0.73\n",
        "- Accuracy: 0.64\n",
        "\n",
        "\n",
        "If we prioritize precision for class 0 and are willing to accept lower recall, we might prefer Model 1.\n",
        "\n",
        "If we want a more balanced trade-off between precision and recall, we might choose Model 2, which has similar performance to Model 1 but with slightly lower precision for class 0.\n",
        "\n",
        "If we prioritize recall for class 1 and are willing to accept lower precision, we might opt for Model 3."
      ],
      "metadata": {
        "id": "GizsqOzf9-uL"
      }
    }
  ]
}